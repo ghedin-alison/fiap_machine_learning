{
  "cells": [
    {
      "cell_type": "markdown",
      "metadata": {
        "id": "aiqrAB0dUjGE"
      },
      "source": [
        "#Algoritmos Genéticos"
      ]
    },
    {
      "cell_type": "markdown",
      "metadata": {
        "id": "rszSPAqPY-m9"
      },
      "source": [
        "Algoritmos genéticos (AGs) são uma classe de algoritmos de otimização inspirada no processo evolutivo biológico. Eles recebem esse nome por se relacionarem intimamente a como espécies se adaptam ao ambiente ao longo de diversas gerações.\n",
        "\n",
        "Em linhas gerais, esses algoritmos criam diversas soluções aleatoriamente para um problema, das quais serão selecionadas as que apresentarem melhor performance (ou fitness, em inglês). Mais soluções são geradas a partir das selecionadas, e esse processo é repetido diversas vezes até que se encontre uma solução satisfatória. Esse processo é análogo à seleção natural, pensando-se em uma população de soluções (cada solução seria um indivíduo).\n",
        "\n",
        "![imagem1](https://miro.medium.com/max/1400/1*VCu7NNV3XbpLfJbcTng1Eg.png)\n",
        "\n",
        "Como o algoritmo é baseado num conceito biológico, em geral, utilizamos alguns jargões da biologia quando falamos de aspectos do AG. Na tabela a seguir, você pode verificar as analogias entre alguns termos utilizados na biologia e em AGs:\n",
        "\n",
        "![imagem2](https://miro.medium.com/max/1400/1*dnQ2bIeT0zHCNtChz5i3Yg.png)\n",
        "\n",
        "O exemplo que será explanado neste artigo é o de treinar o jogo Dino Run do Google (aquele que aparece no Google Chrome quando a sua internet cai), entretanto existem outros exemplos, como reproduzir imagens 2D em 3D (um tópico mais avançado do que o que será abordado aqui).\n",
        "\n",
        "Overview do Algoritmo Genético\n",
        "A ideia do algoritmo genético é selecionar as melhores soluções de um problema e fazer com que elas se perpetuem. Podemos definir como um pseudocódigo do AG o seguinte:\n",
        "\n",
        "ENTRADA: População Inicial (aleatória)\n",
        "         Função de Fitness\n",
        "         Critério de Parada\n",
        "REPITA (até que o critério de parada seja atendido):\n",
        "PASSO 1: Aplicar a função de fitness a cada indivíduo\n",
        "PASSO 2: Selecionar os x melhores indivíduos\n",
        "PASSO 3: Reprodução\n",
        "        - Aplicar o crossover a um par (com prob = p)\n",
        "        - Aplicar mutação (com prob = p’)\n",
        "PASSO 4: Formar uma nova população com os filhos gerados\n",
        "SAÍDA: Melhor indivíduo presente na geração final\n",
        "\n",
        "Tipicamente, esses passos são divididos em funções dentro do código, como “reprodução”, “crossing over”, “população aleatória”, “fitness” e etc. "
      ]
    },
    {
      "cell_type": "markdown",
      "metadata": {
        "id": "yKBY9CNTaWOM"
      },
      "source": [
        "Dino Run: O Nosso Problema\n",
        "Muitos problemas em algoritmos genéticos são unidimensionais, ou seja, a função de decisão é binária: tomar uma ação ou outra. Vamos pensar num exemplo bem bobo com essa propriedade: digamos que queiramos fazer um AG que nos diga se um determinado personagem deve ficar sentado ou de pé. Nesse caso, existem apenas duas escolhas possíveis, de forma que a fronteira de decisão poderia ser unidimensional. Ou seja, o nosso algoritmo iria ter algumas variáveis de entrada, uma função que utilizasse essas variáveis com determinados pesos e iria nos retornar um valor (um número real). Dependendo de quanto fosse esse valor, nós tomaríamos uma determinada ação, como por exemplo: ficar de pé se f(x) < 0 e ficar sentado se f(x) ≥ 0. Assim, nossa fronteira seria o 0, e poderíamos representar numa linha em quais valores iríamos tomar determinadas ações. Resumindo em diagramas essa lógica:\n",
        "\n",
        "![imagem3](https://miro.medium.com/max/1100/0*TJ4IXY314eOItEYh)\n",
        "![imagem4](https://miro.medium.com/max/1106/0*nJ5EZObJo4MKb7sf)\n",
        "\n",
        "Um ponto que pode gerar dúvida é: como eu escolho essa fronteira? A ideia do AG é que ele se adapte às suas escolhas iniciais conforme o algoritmo roda. Então, simplificadamente: pode escolher qualquer fronteira. O que eventualmente pode mudar com a sua escolha é a sua taxa e limites de convergência, que podem ser prejudicados ou melhorados (isso não só para sua fronteira, mas principalmente para a função de fitness… mas isso discutiremos daqui a pouco).\n",
        "\n",
        "No caso do Dino Run nós temos três possíveis ações (Pular, Agachar, Não fazer nada), e, por isso, é melhor que o nosso indivíduo seja multidimensional. O que queremos é que cada ação tenha sua própria função, que indique o quão boa essa ação é. Por exemplo: se, em um determinado instante, o jogador deve pular, o valor da ação pular será maior que o valor de agachar ou não fazer nada. Assim, nossa função de decisão não nos retornará um número, mas sim um vetor com três números (um para cada ação). O que isso implica é que não vai existir uma fronteira de decisão unidimensional, que nem a que foi mostrada, mas sim, cada ação terá o seu próprio valor, sem limitações. Nós vamos escolher a ação cuja função nos dê o maior output dentre os três.\n",
        "\n",
        "Por que vamos fazer isso? Bom, de fato, nós bem que podíamos esquartejar nossa pobre reta real em vários pedacinhos e arbitrar intervalos para determinadas ações, entretanto, isso poderia prejudicar bastante nossa convergência.\n",
        "\n",
        "Um último detalhe antes de mergulharmos na implementação, que você deve estar se perguntando há um tempo, é: e as nossas variáveis de entrada??? Bom, em geral, as nossa variáveis de entrada são parâmetros que nos dizem coisas sobre o nosso problema. No caso do dinossauro, poderia ser a distância até o próximo obstáculo, a velocidade, a altura do próximo obstáculo, etc. Lembrando que o jogo é dinâmico, ou seja, essas variáveis estão em constante mudança, a cada tomada de decisão, rodamos mais uma decisão com outros valores. Esse vetor com essas variáveis é chamado de “estado do jogo”.\n",
        "\n",
        "Agora que discutimos toda essa teoria, vamos começar arrumando a casa, importando o jogo, as bibliotecas que vamos usar (numpy) e escolhendo nossos parâmetros globais:\n",
        "\n",
        "\n"
      ]
    },
    {
      "cell_type": "code",
      "execution_count": 27,
      "metadata": {
        "id": "JE61nsvZUqVW"
      },
      "outputs": [],
      "source": [
        "import numpy as np\n",
        "import random\n",
        "from chrome_trex import DinoGame\n",
        "\n",
        "CHANCE_MUT = .20     # Chance de mutação de um peso qualquer\n",
        "CHANCE_CO = .25      # Chance de crossing over de um peso qualquer\n",
        "NUM_INDIVIDUOS = 15  # Tamanho da população\n",
        "NUM_MELHORES = 3     # Número de indivíduos que são mantidos de uma geração para a próxima"
      ]
    },
    {
      "cell_type": "markdown",
      "metadata": {
        "id": "TcQ2746va70Z"
      },
      "source": [
        "Obs: a biblioteca que estamos usando é a chrome-trex-rush, que pode ser instalada com o seguinte comando:"
      ]
    },
    {
      "cell_type": "code",
      "execution_count": 28,
      "metadata": {
        "colab": {
          "base_uri": "https://localhost:8080/"
        },
        "id": "vFjH19yAU1X_",
        "outputId": "4b82457a-04fa-479a-a7fc-32be87314212"
      },
      "outputs": [],
      "source": [
        "#pip install --user git+https://github.com/GrupoTuringCodes/chrome-trex-rush@master"
      ]
    },
    {
      "cell_type": "code",
      "execution_count": 29,
      "metadata": {
        "colab": {
          "base_uri": "https://localhost:8080/"
        },
        "id": "2mRD1HxkWiUs",
        "outputId": "6cbf7f01-32de-4213-f40e-fd791e25f228"
      },
      "outputs": [],
      "source": [
        "#!pip install pygame"
      ]
    },
    {
      "cell_type": "markdown",
      "metadata": {
        "id": "UWrJg6g4bFFL"
      },
      "source": [
        "População Aleatória\n",
        "Como dito no pseudocódigo anterior, uma das coisas necessárias para o algoritmo genético é uma população aleatória para começar. Para isso, vamos criar vários indivíduos com pesos. PERA, CALMA, O QUÊ? Mas você nem me explicou direito o que que é isso! Calma leitor, vamos dar uma aprofundada antes de montarmos o código em si.\n",
        "\n",
        "Código Genético e Pesos\n",
        "Cada indivíduo possui seu próprio código genético, que determina suas características e desempenho no ambiente em que vive. Da mesma forma, uma inteligência artificial possui parâmetros que influenciam sua tomada de decisão e, consequentemente, seu desempenho. Considere, por exemplo, um código que pretende investir no mercado financeiro de forma a maximizar seu capital. A IA pode levar em conta desde o valor de um ativo até notícias sobre o proprietário de uma empresa para decidir se investirá ou não no negócio. O quanto esse programa valoriza cada elemento da realidade em sua tomada de decisão é chamado de peso, e determina seu sucesso. Como e quais fatores são valorizados nesse processo são descritos por uma função de tomada de decisão. Nesse paralelo, a função de tomada de decisão de um algoritmo seria análogo ao genoma de uma espécie, enquanto os pesos seriam associados às diferenças que cada organismo da espécie tem em seu DNA.\n",
        "\n",
        "Se definíssemos uma função linear simples (em que multiplicamos cada variável por um peso e depois somamos tudo), uma IA gerada por esse algoritmo genético que tivesse 3 pesos teria a função de decisão:\n",
        "\n",
        "f = a⋅p[1] + b⋅p[2] + c⋅p[3],\n",
        "\n",
        "em que p[1], p[2] e p[3] são elementos do vetor de estado e a, b e c são os pesos do indivíduo. (Spoiler: essa é a função que vamos adotar no Dino Run)\n",
        "\n",
        "Note que os pesos não precisam necessariamente multiplicar variáveis da função geral de tomada de decisão, ou seja, o uso da função linear é apenas uma simplificação. O importante é que cada peso altere cada variável de alguma forma, definida pelo projetista.\n",
        "\n",
        "No Dino Run\n",
        "Bom, voltando ao Dino Run, nós vamos utilizar a biblioteca numpy para nos ajudar a gerar uma matriz de pesos aleatórios "
      ]
    },
    {
      "cell_type": "code",
      "execution_count": 30,
      "metadata": {
        "id": "QiAAKgNDU8Bc"
      },
      "outputs": [],
      "source": [
        "def populacao_aleatoria(n):\n",
        "    \"\"\"\n",
        "    Argumentos da Função:\n",
        "        n: Número de indivíduos\n",
        "    Saída:\n",
        "        Uma população aleatória. População é uma lista de indivíduos,\n",
        "        e cada indivíduo é uma matriz 3x10 de pesos (números).\n",
        "        Os indivíduos podem tomar 3 ações (0, 1, 2) e cada linha da matriz\n",
        "        contém os pesos associados a uma das ações.\n",
        "    \"\"\"\n",
        "    populacao = []\n",
        "    for i in range(n):\n",
        "        populacao.append(np.random.uniform(-10, 10, (3, 10)))\n",
        "    return populacao"
      ]
    },
    {
      "cell_type": "markdown",
      "metadata": {
        "id": "fhI9bUNtbP_W"
      },
      "source": [
        "Função de Decisão\n",
        "Okay, agora que já montamos nossos indivíduos iniciais, como vamos fazer com que eles tomem uma decisão? A ideia aqui é dividir esse processo em duas funções. A primeira delas, vai aplicar aquelas nossas funções de decisão em si, nos retornando um valor para cada ação, ou seja, um vetor com três números. Lembrando que nesse caso a nossa função de decisão é uma função linear, mas ela não precisaria ser assim. Essa função pode ser o quão complexa ou simples nós quisermos, desde uma função linear (como a que utilizaremos) até uma rede neural (que veremos mais a frente), por exemplo.\n",
        "\n",
        "A segunda função que vamos utilizar vai pegar esse vetor e nos retornar o índice do maior número entre os três. Por que pegamos esse índice? Bom, no jogo, cada uma das ações é aplicada com um número (0,1 ou 2), que corresponde exatamente a um dos índices do vetor de decisão. E como eu garanto que eu estou pegando o índice certo da ação certa? Eu preciso saber qual ação corresponde a qual índice? Na verdade não, como já dito anteriormente, o AG vai se adaptar às suas escolhas iniciais. Então relaxa, não importa qual índice representa qual ação.\n",
        "\n",
        "Primeira Função: o Valor das Ações\n",
        "A multiplicação matricial da matriz do indivíduo pelo vetor do estado nos retornará os valores de cada ação. Por exemplo, se o estado tiver 5 componentes (s0, s1, s2, s3, s4) e as letras coloridas (de a a o) forem os pesos do indivíduo, os valores das ações seriam:\n",
        "\n",
        "![imagem5](https://miro.medium.com/max/1400/1*o1_s6koBWn7p1nb33vkpxg.png)\n",
        "\n",
        "Matricialmente, a equação acima fica:\n",
        "\n",
        "![imagem6](https://miro.medium.com/max/1400/1*0dS3ElFjCgMyaqN3Ww59og.png)\n",
        "\n",
        "Acima usamos um estado com apenas 5 componentes. No Dino Run, o estado tem 10 componentes, ou seja, os pesos estarão organizados em uma matriz 3×10. Desse modo, a função que calcula o valor das ações fica assim:\n"
      ]
    },
    {
      "cell_type": "code",
      "execution_count": 31,
      "metadata": {
        "id": "5k9NLwOIUvZ-"
      },
      "outputs": [],
      "source": [
        "def valor_das_acoes(individuo, estado):\n",
        "    \"\"\"\n",
        "    Argumentos da Função:\n",
        "        individuo: matriz 3x10 com os pesos do indivíduo.\n",
        "        estado: lista com 10 números que representam o estado do jogo.\n",
        "    Saída:\n",
        "        Uma lista com os valores das ações no estado `estado`. Calcula os valores\n",
        "        das jogadas como combinações lineares dos valores do estado, ou seja,\n",
        "        multiplica a matriz de pesos pelo estado.\n",
        "    \"\"\"\n",
        "    return individuo @ estado # Multiplicação de matrizes"
      ]
    },
    {
      "cell_type": "markdown",
      "metadata": {
        "id": "z-x5umkXbsGJ"
      },
      "source": [
        "Segunda Função: Pegar o Índice da Melhor Ação\n",
        "Essa aqui não tem segredo, a gente vai usar uma função do numpy que faz justamente isso: dado um vetor, ela retorna o índice do maior valor."
      ]
    },
    {
      "cell_type": "code",
      "execution_count": 32,
      "metadata": {
        "id": "gcI6YuqPVdpL"
      },
      "outputs": [],
      "source": [
        "def melhor_jogada(individuo, estado):\n",
        "    \"\"\"\n",
        "    Argumentos da Função:\n",
        "        individuo: matriz 3x10 com os pesos do indivíduo.\n",
        "        estado: lista com 10 números que representam o estado do jogo.\n",
        "    Saída:\n",
        "        A ação de maior valor (0, 1 ou 2) calculada pela função valor_das_acoes.\n",
        "    \"\"\"\n",
        "    valores = valor_das_acoes(individuo, estado)\n",
        "    return np.argmax(valores)"
      ]
    },
    {
      "cell_type": "markdown",
      "metadata": {
        "id": "2CaleYJzbxcN"
      },
      "source": [
        "Reprodução\n",
        "Antes de entrarmos na reprodução dos nossos indivíduos, vamos esclarecer alguns conceitos.\n",
        "\n",
        "Seleção Natural e Gerações\n",
        "Na natureza, indivíduos mais aptos sobrevivem e se reproduzem com mais frequência, proliferando seu código genético na população. No longo prazo, isso gera populações mais e mais adaptadas ao seu ambiente a cada geração. No entanto, linhas de código não estão sujeitas a adversidades como fome ou incapacidade de encontrar um parceiro. Assim, não se espera observar um fenômeno equivalente a não ser que seja introduzido um processo artificial de seleção desses códigos.\n",
        "\n",
        "No contexto da computação, esse processo é introduzido por uma função de avaliação de desempenho. Essa função é responsável por determinar o que caracteriza o sucesso de uma IA em uma certa tarefa. Consideremos, por exemplo, que o desempenho da nossa IA investidora seja definido exclusivamente por seu capital acumulado ao longo do tempo. Se criássemos diversas IAs para investirem no mercado, com parâmetros de tomada de decisão gerados aleatoriamente, é um fato que haveria exemplares com desempenho melhor do que os demais.\n",
        "\n",
        "Seria possível que uma dessas IAs (ou indivíduos) tivesse performance boa o suficiente para ser utilizada. No entanto, a probabilidade desse evento é usualmente muito baixa. Assim, podemos repetir o processo descrito até que se encontre uma IA satisfatória. Porém, essa busca pode ser muito demorada, o que é remediado por alguns recursos dos algoritmos genéticos.\n",
        "\n",
        "Buscar membros de alta performance (para uma dada tarefa) em um grupo cujos indivíduos têm características aleatórias é contraproducente: espera-se que a grande maioria deles, senão sua totalidade, tenha péssimo desempenho. Apesar disso, ainda existirá uma diferença entre a performance de cada um, o que é crucial para o funcionamento de algoritmos genéticos. Um AG seleciona somente os melhores indivíduos que criou para uma próxima geração (baseado na sua função de avaliação), da mesma forma como somente os organismos mais aptos a um habitat conseguem passar pelo crivo da natureza, gerando proles que viverão a próxima geração da espécie.\n",
        "\n",
        "A partir dessa seleção, o AG descarta os demais indivíduos, substituindo-os por IAs cujos parâmetros são gerados a partir de ligeiras variações nos pesos de um “sobrevivente” da geração anterior. Essas variações, sim, são aleatórias, de forma que seja provável que haja tanto indivíduos de melhor quanto de pior desempenho. Assim, a cada geração, espera-se que haja indivíduos com melhores resultados do que na anterior, eventualmente obtendo-se um indivíduo com desempenho satisfatório.\n",
        "\n",
        "No Dino Run\n",
        "Nessa etapa não vamos eliminar os piores indivíduos, vamos deixar pra fazer isso depois que fizermos a nossa função de fitness (aquela que avalia o desempenho dos indivíduos). Por enquanto, vamos apenas fazer os mecanismos de crossing over e mutação.\n",
        "\n",
        "Na reprodução, a função de crossing over escolherá dois indivíduos da população existente e a partir deles criará um indivíduo novo. Depois disso a função de mutação irá possivelmente alterar esse indivíduo.\n",
        "\n",
        "Mutação\n",
        "Na função de mutação nós vamos possivelmente mutar os pesos do nosso indivíduo com uma probabilidade definida lá em cima nas nossas variáveis globais. CALMA CALMA CALMA! Como que eu mexo com uma probabilidade num código? Eu não sei como fazer algo acontecer com uma probabilidade dada! Calma leitor, nós pensamos nisso, vamos dar uma explicadinha de como lidar com as probabilidades.\n",
        "\n",
        "Para fazer com que um evento ocorra com probabilidade p basta gerar um número aleatório entre 0 e 1 (nossa variável aleatória com distribuição uniforme) e verificar se ele está dentro de um intervalo do tamanho da probabilidade que queremos. Exemplificando:\n",
        "\n",
        "![imagem7](https://miro.medium.com/max/1326/0*-hMMlgO0T-39k7wi)\n",
        "\n",
        "Nesse caso um número sorteado entre 0 e 1 tem 20% de chance de cair no intervalo rosa.\n",
        "\n",
        "Assim, nosso código fica assim:"
      ]
    },
    {
      "cell_type": "code",
      "execution_count": 33,
      "metadata": {
        "id": "CCCQ0w9TVgLH"
      },
      "outputs": [],
      "source": [
        "def mutacao(individuo):\n",
        "    \"\"\"\n",
        "    Argumentos da Função:\n",
        "        individuo: matriz 3x10 com os pesos do indivíduo.\n",
        "    Saída:\n",
        "        Essa função não tem saída. Ela apenas modifica os pesos do indivíduo,\n",
        "        com chance CHANCE_MUT para cada peso.\n",
        "    \"\"\"\n",
        "\n",
        "    for i in range(3):\n",
        "        for j in range(10):\n",
        "            if np.random.uniform(0, 1) < CHANCE_MUT:\n",
        "                individuo[i][j] *= np.random.uniform(-1.5, 1.5)"
      ]
    },
    {
      "cell_type": "markdown",
      "metadata": {
        "id": "cwVInDNccBEk"
      },
      "source": [
        "Nesse caso, a mutação consiste em multiplicar o peso por um valor aleatório dentro de um intervalo, mas não necessariamente teria de ser isso.\n",
        "\n",
        "Crossing Over\n",
        "Como dito anteriormente, a função de crossing over é a que combina dois indivíduos. É nesse momento que vamos escolher dois indivíduos da população e a partir deles gerar um novo. Existem várias formas de fazer isso, você poderia, por exemplo, escolher metade dos pesos do pai e metade dos da mãe. No caso do Dino Run, o que fazemos é, primeiramente, definir a nossa “cria” como a cópia de um dos dois indivíduos selecionados e depois trocar cada um dos pesos pelo do outro indivíduo com uma chance dada."
      ]
    },
    {
      "cell_type": "code",
      "execution_count": 34,
      "metadata": {
        "id": "DyuMYhEpVjSI"
      },
      "outputs": [],
      "source": [
        "def crossover(individuo1, individuo2):\n",
        "    \"\"\"\n",
        "    Argumentos da Função:\n",
        "        individuoX: matriz 3x10 com os pesos do individuoX.\n",
        "    Saída:\n",
        "        Um novo indivíduo com pesos que podem vir do `individuo1`\n",
        "        (com chance 1-CHANCE_CO) ou do `individuo2` (com chance CHANCE_CO),\n",
        "        ou seja, é um cruzamento entre os dois indivíduos. Você também pode pensar\n",
        "        que essa função cria uma cópia do `individuo1`, mas com chance CHANCE_CO,\n",
        "        copia os respectivos pesos do `individuo2`.\n",
        "    \"\"\"\n",
        "    filho = individuo1.copy()\n",
        "    for i in range(3):\n",
        "        for j in range(10):\n",
        "            if np.random.uniform(0, 1) < CHANCE_CO:\n",
        "                filho[i][j] = individuo2[i][j]\n",
        "    return filho"
      ]
    },
    {
      "cell_type": "markdown",
      "metadata": {
        "id": "O5D6Ret7cGPj"
      },
      "source": [
        "Fitness\n",
        "Bom, chegamos agora num ponto bem importante dos algoritmos genéticos, que é a função de fitness. Como dito anteriormente no texto, para simular o mecanismo biológico de seleção natural precisamos artificialmente criar uma pressão do meio. É aí que entra a função de fitness: a partir do score dado por ela para um dado indivíduo, é possível comparar a performance dele em relação aos demais.\n",
        "\n",
        "A função de fitness é extremamente importante para modelar um problema, ela deve ser escolhida sabiamente. Isso porque toda a força computacional será posta para maximizá-la; se ela não contempla de forma satisfatória o nosso problema, chegaremos numa solução que não nos será útil.\n",
        "\n",
        "Mesmo que a função de fitness penalize os indivíduos conforme o esperado para o nosso problema, ainda precisamos corrigir algumas nuances e penalizar mais alguns aspectos do que outros a depender do caso. Por exemplo, se num jogo de snake a nossa função de fitness apenas premiasse o maior número de casas percorridas pela cobrinha indiscriminadamente, poderíamos induzir o algoritmo a fazer com que ela andasse em círculos (o que não é nada bom). Uma forma de prevenir isso seria penalizar os passos dados em direção contrária a da comida. Num exemplo mais real, se quiséssemos maximizar o lucro de uma empresa com base no estoque a ser mantido por ela e, para isso, utilizássemos uma simulação com algoritmos genéticos, haveríamos de considerar várias nuances em nossa função de fitness. Nada nos ajudaria a empresa maximizar o lucro no curto prazo se com isso ela prejudicasse a satisfação dos clientes (o que a faria performar mal no futuro), por isso teríamos de pesar isso no nosso fitness.\n",
        "\n",
        "Voltando ao Dino Run, a nossa função de fitness mais simples a ser escolhida (que é o que faremos nesse caso) é o score do jogo. É claro, talvez pesar outros parâmetros poderia melhorar o nosso resultado final e a nossa taxa de convergência. Entretanto, nesse caso, preferimos utilizar apenas a pontuação do jogo para simplificar o código.\n",
        "\n",
        "Então, em termos de código, o que a função deve executar é: fazer com que o indivíduo jogue o jogo e depois pegar o score dele. Algumas ressalvas são: temos que dar reset no jogo antes de pôr nosso pequeno indivíduo à prova, para que ele comece um jogo novo (e não fique na tela de game over do indivíduo anterior)."
      ]
    },
    {
      "cell_type": "code",
      "execution_count": 35,
      "metadata": {
        "id": "xoXuDEbrVl7m"
      },
      "outputs": [],
      "source": [
        "def calcular_fitness(jogo, individuo):\n",
        "    \"\"\"\n",
        "    Argumentos da Função:\n",
        "        jogo: objeto que representa o jogo.\n",
        "        individuo: matriz 3x10 com os pesos do individuo.\n",
        "    Saída:\n",
        "        O fitness calculado de um indivíduo. Esse cálculo é feito simulando um\n",
        "        jogo e calculando o fitness com base nessa simulação. O modo mais simples\n",
        "        é usando fitness = score do jogo.\n",
        "    \"\"\"\n",
        "    # O jogo é simulado usando:\n",
        "    #   jogo.reset()\n",
        "    #   jogo.game_over\n",
        "    #   jogo.step(acao)  # Toma a ação `acao` e vai para o próximo frame\n",
        "    #   jogo.get_score()\n",
        "    #   jogo.get_state()\n",
        "\n",
        "    jogo.reset()\n",
        "    while not jogo.game_over:\n",
        "        estado = jogo.get_state()\n",
        "        acao = melhor_jogada(individuo, estado)\n",
        "        jogo.step(acao)\n",
        "    return jogo.get_score()"
      ]
    },
    {
      "cell_type": "markdown",
      "metadata": {
        "id": "MszKu9yacRV1"
      },
      "source": [
        "O legal é que agora estamos começando a encaixar as peças, nessa função tivemos que puxar algumas de nossa funções implementadas anteriormente.\n",
        "\n",
        "Próxima Geração\n",
        "Agora que definimos a nossa função de fitness, podemos eliminar os nossos piores indivíduos e reproduzir os melhores. Ou seja, o que vamos fazer é unir o fitness com a nossa reprodução e também selecionar os melhores. Para isso, vamos definir uma função adicional que ordenará a população com base no fitness de cada individuo."
      ]
    },
    {
      "cell_type": "code",
      "execution_count": 36,
      "metadata": {
        "id": "FrfJRY8WVpZj"
      },
      "outputs": [],
      "source": [
        "def ordenar_lista(lista, ordenacao, decrescente=True):\n",
        "    \"\"\"\n",
        "    Argumentos da Função:\n",
        "        lista: lista de números a ser ordenada.\n",
        "        ordenacao: lista auxiliar de números que define a prioridade da\n",
        "        ordenação.\n",
        "        decrescente: variável booleana para definir se a lista `ordenacao`\n",
        "        deve ser ordenada em ordem crescente ou decrescente.\n",
        "    Saída:\n",
        "        Uma lista com o conteúdo de `lista` ordenada com base em `ordenacao`.\n",
        "    Por exemplo,\n",
        "        ordenar_lista(['a', 'b', 'c', 'd'], [7, 2, 5, 4])\n",
        "        # retorna ['a', 'c', 'd', 'b'] (o maior número é 7, que corresponde à primeira letra: 'a')\n",
        "        ordenar_lista(['w', 'x', 'y', 'z'], [3, 8, 2, 1])\n",
        "        # retorna ['x', 'w', 'y', 'z'] (o maior número é 8, que corresponde à segunda letra: 'x')\n",
        "    \"\"\"\n",
        "    return [x for _, x in sorted(zip(ordenacao, lista), key=lambda p: p[0], reverse=decrescente)]\n",
        "\n",
        "\n",
        "def proxima_geracao(populacao, fitness):\n",
        "    \"\"\"\n",
        "    Argumentos da Função:\n",
        "        populacao: lista de indivíduos.\n",
        "        fitness: lista de fitness, uma para cada indivíduo.\n",
        "    Saída:\n",
        "        A próxima geração com base na população atual.\n",
        "        Para criar a próxima geração, segue-se o seguinte algoritmo:\n",
        "          1. Colocar os melhores indivíduos da geração atual na próxima geração.\n",
        "          2. Até que a população esteja completa:\n",
        "             2.1. Escolher aleatoriamente dois indivíduos da geração atual.\n",
        "             2.2. Criar um novo indivíduo a partir desses dois indivíduos usando\n",
        "                  crossing over.\n",
        "             2.3. Mutar esse indivíduo.\n",
        "             2.4. Adicionar esse indivíduo na próxima geração\n",
        "    \"\"\"\n",
        "    # Adicionar os melhores indivíduos da geração atual na próxima geração\n",
        "    ordenados = ordenar_lista(populacao, fitness)\n",
        "    proxima_ger = ordenados[:NUM_MELHORES]\n",
        "\n",
        "    while len(proxima_ger) < NUM_INDIVIDUOS:\n",
        "        # Você pode usar a função random.choices(populacao, weights=None, k=2) para selecionar `k`\n",
        "        # elementos aleatórios da população.\n",
        "        #\n",
        "        # Se vc passar o argumento `weights`, os indivíduos serão escolhidos com base nos pesos\n",
        "        # especificados (elementos com pesos maiores são escolhidos mais frequentemente).\n",
        "        # Uma ideia seria usar o fitness como peso.\n",
        "        ind1, ind2 = random.choices(populacao, k=2)\n",
        "        filho = crossover(ind1, ind2)\n",
        "        mutacao(filho)\n",
        "        proxima_ger.append(filho)\n",
        "\n",
        "    return proxima_ger"
      ]
    },
    {
      "cell_type": "markdown",
      "metadata": {
        "id": "LmUOw4TOcWej"
      },
      "source": [
        "Obs: na função acima, utilizamos o método random.choices() (e não np.random.choice()) porque o método de numpy não consegue trabalhar com listas de listas (ou listas de matrizes)."
      ]
    },
    {
      "cell_type": "markdown",
      "metadata": {
        "id": "pE_TfCiiXghD"
      },
      "source": [
        "As duas células abaixo são somente para \"enganar\" o google colab para rodar o pygame"
      ]
    },
    {
      "cell_type": "code",
      "execution_count": 37,
      "metadata": {
        "id": "j1g-whkVW1b-"
      },
      "outputs": [],
      "source": [
        "# import cv2\n",
        "# from google.colab.patches import cv2_imshow\n",
        "# from google.colab import output\n",
        "import time \n",
        "import os, sys"
      ]
    },
    {
      "cell_type": "code",
      "execution_count": 38,
      "metadata": {
        "id": "fSQC4a0tW06w"
      },
      "outputs": [],
      "source": [
        "# set SDL to use the dummy NULL video driver, \n",
        "#   so it doesn't need a windowing system.\n",
        "os.environ[\"SDL_VIDEODRIVER\"] = \"dummy\""
      ]
    },
    {
      "cell_type": "markdown",
      "metadata": {
        "id": "KAuMw_KYXZSa"
      },
      "source": [
        "------------------------------------------------------------------------------"
      ]
    },
    {
      "cell_type": "markdown",
      "metadata": {
        "id": "D_cunc8XceIc"
      },
      "source": [
        "Função Main\n",
        "Pronto, agora estamos com a faca e o queijo na mão. Só temos que juntar os pedaços que criamos até agora. Esse código de agora é essencialmente a transformação daquele pseudocódigo do início do texto em código python para o Dino Run."
      ]
    },
    {
      "cell_type": "code",
      "execution_count": 39,
      "metadata": {
        "colab": {
          "base_uri": "https://localhost:8080/"
        },
        "id": "7vEBjYh-VsRG",
        "outputId": "f5b1ab63-e50d-47a5-d85a-75faf43e9d6c"
      },
      "outputs": [
        {
          "name": "stdout",
          "output_type": "stream",
          "text": [
            "ger | fitness\n",
            "----+----------------------------------------------------------------------------\n",
            "  0 |   42   21   21   20   20   20   20   20   19   19   19   19   19   19   19\n",
            "  1 |   39   21   21   21   21   21   21   20   19   19   19   19   19   19   19\n",
            "  2 |   21   21   21   21   21   21   21   21   20   20   20   19   19   19   19\n",
            "  3 |   21   21   21   21   21   21   21   21   21   20   20   19   19   19   19\n",
            "  4 |   21   21   21   21   21   21   21   21   21   21   21   21   21   20   20\n",
            "  5 |   44   21   21   21   21   21   21   21   21   21   21   21   20   20   19\n",
            "  6 |   22   21   21   21   21   21   21   21   21   21   21   20   20   20   19\n",
            "  7 |   71   21   21   21   21   21   21   21   20   20   20   20   19   19   19\n",
            "  8 |   52   21   21   21   21   21   21   21   21   20   20   20   20   20   19\n",
            "  9 |   21   21   21   21   21   21   21   21   21   21   21   20   20   20   19\n",
            " 10 |   21   21   21   21   21   21   21   21   21   21   21   21   20   19   19\n",
            " 11 |   21   21   21   21   21   21   21   21   21   20   20   20   20   19   19\n",
            " 12 |   21   21   21   21   21   21   21   21   21   20   20   20   19   19   19\n",
            " 13 |   21   21   21   21   21   21   21   21   21   21   20   20   20   20   19\n",
            " 14 |   35   21   21   21   21   21   21   21   21   21   21   19   19   19   19\n",
            " 15 |   22   21   21   21   21   21   21   21   21   21   21   21   20   19   19\n",
            " 16 |   21   21   21   21   21   21   21   21   21   21   20   20   20   19   19\n",
            " 17 |   21   21   21   21   21   21   21   21   21   21   21   20   19   19   19\n",
            " 18 |   22   21   21   21   21   21   21   21   21   21   21   21   20   19   19\n",
            " 19 |   22   21   21   21   21   21   21   21   21   20   20   20   20   19   19\n",
            " 20 |   68   37   31   21   21   21   21   21   20   20   20   20   20   20   19\n",
            " 21 |   59   30   21   21   21   21   21   20   20   20   20   20   20   20   19\n",
            " 22 |   51   39   38   30   21   21   21   20   20   20   20   20   20   20   20\n",
            " 23 |   21   21   21   20   20   20   20   20   20   20   20   20   20   20   20\n",
            " 24 |   21   21   21   21   21   21   20   20   20   20   20   20   20   19   19\n",
            " 25 |   21   21   21   21   20   20   20   20   20   19   19   19   19   19   19\n",
            " 26 |   21   21   21   21   21   20   20   20   19   19   19   19   19   19   19\n",
            " 27 |   21   21   21   21   21   21   21   21   20   20   20   19   19   19   19\n",
            " 28 |   21   21   21   21   21   21   21   21   21   21   21   20   20   19   19\n",
            " 29 |   21   21   21   21   21   21   21   21   21   21   20   19   19   19   19\n",
            " 30 |   21   21   21   21   21   21   21   21   21   21   21   21   21   19   19\n",
            " 31 |   21   21   21   21   21   21   21   21   21   21   21   21   19   19   19\n",
            " 32 |   21   21   21   21   21   21   21   21   21   21   21   21   20   19   19\n",
            " 33 |   21   21   21   21   21   21   21   21   21   21   21   20   20   19   19\n",
            " 34 |   30   21   21   21   21   21   21   21   21   21   20   19   19   19   19\n",
            " 35 |   21   21   21   21   21   21   21   20   20   20   20   20   19   19   19\n",
            " 36 |   21   21   21   21   21   21   21   20   20   20   20   20   19   19   19\n",
            " 37 |   21   21   21   21   21   21   21   21   21   21   20   19   19   19   19\n",
            " 38 |   21   21   21   21   21   21   21   21   20   20   20   19   19   19   19\n",
            " 39 |   21   21   21   21   21   21   21   21   21   21   20   20   20   20   19\n",
            " 40 |   21   21   21   21   21   21   21   21   21   21   21   20   19   19   19\n",
            " 41 |   21   21   21   21   21   21   21   21   21   21   21   20   20   19   19\n",
            " 42 |   21   21   21   21   21   21   21   21   21   21   21   21   20   20   20\n",
            " 43 |   21   21   21   21   21   21   21   21   21   21   21   21   20   19   19\n",
            " 44 |   21   21   21   21   21   21   21   21   21   21   21   21   20   20   20\n",
            " 45 |  108   33   21   21   21   21   21   21   21   21   21   21   20   19   19\n",
            " 46 |   56   45   21   21   21   21   21   20   20   20   20   20   19   19   19\n",
            " 47 |   50   21   21   21   21   21   21   21   21   21   21   20   20   19   19\n",
            " 48 |   49   21   21   21   21   21   21   21   21   21   20   20   20   20   20\n",
            " 49 |   21   21   21   21   21   21   21   21   20   20   20   20   20   20   19\n",
            " 50 |   88   22   21   21   21   21   21   21   21   21   21   21   21   20   20\n",
            " 51 |   60   21   21   21   21   21   21   21   21   21   21   20   20   20   20\n",
            " 52 |   80   56   21   21   21   21   21   21   21   21   21   21   20   20   20\n",
            " 53 |   55   22   21   21   21   21   21   21   21   21   20   20   20   20   19\n",
            " 54 |   29   21   21   21   21   21   21   21   21   21   21   21   20   20   20\n",
            " 55 |   56   36   31   29   21   21   21   21   21   21   20   20   20   20   19\n",
            " 56 |   21   21   21   21   21   21   21   21   21   20   20   20   20   19   19\n",
            " 57 |   56   35   21   21   21   21   21   21   21   21   20   20   19   19   19\n",
            " 58 |   45   21   21   21   21   21   21   21   21   21   20   20   19   19   19\n",
            " 59 |   32   21   21   21   21   21   21   21   21   21   21   20   20   20   20\n",
            " 60 |   29   21   21   21   21   21   21   21   21   21   21   20   20   20   19\n",
            " 61 |   21   21   21   21   21   21   21   21   20   20   20   19   19   19   19\n",
            " 62 |   21   21   21   21   21   21   21   21   21   21   21   20   19   19   19\n",
            " 63 |   86   60   21   21   21   21   21   21   21   21   21   21   20   19   19\n",
            " 64 |   51   21   21   21   21   21   21   21   21   21   21   20   19   19   19\n",
            " 65 |   46   21   21   21   21   21   21   21   21   21   21   20   20   20   19\n",
            " 66 |   55   33   21   21   21   21   21   21   21   21   21   20   20   20   19\n",
            " 67 |   54   34   21   21   21   21   21   21   20   20   20   20   20   19   19\n",
            " 68 |   34   21   21   21   21   21   20   20   20   20   20   20   20   20   20\n",
            " 69 |  120   77   29   21   21   21   20   20   20   20   20   20   20   20   20\n",
            " 70 |  137   57   21   21   21   21   21   21   20   20   20   20   20   20   19\n",
            " 71 |  141   33   21   21   21   21   21   21   21   21   21   21   20   20   19\n",
            " 72 |   72   34   34   21   21   21   21   21   21   21   21   20   20   19   19\n",
            " 73 |  111   95   39   21   21   21   21   21   21   21   21   20   20   20   20\n",
            " 74 |  100   63   49   45   33   21   21   21   21   21   21   20   20   20   20\n",
            " 75 |  100   77   34   33   21   21   21   21   21   20   20   20   20   20   19\n",
            " 76 |   57   34   34   30   21   21   21   21   21   21   21   20   20   19   19\n",
            " 77 |   50   35   29   21   21   21   21   21   21   21   21   20   20   20   19\n",
            " 78 |   99   45   35   21   21   21   21   21   21   21   21   20   20   20   20\n",
            " 79 |   68   56   46   21   21   21   21   21   20   20   20   19   19   19   19\n",
            " 80 |   81   39   29   22   21   21   21   21   21   21   20   20   20   20   20\n",
            " 81 |   40   35   34   21   21   21   21   21   21   20   20   20   20   19   19\n",
            " 82 |   56   35   34   22   21   21   21   21   21   20   20   20   20   19   19\n",
            " 83 |   96   93   30   29   21   21   21   21   21   21   20   20   20   19   19\n",
            " 84 |   68   61   35   21   21   21   21   21   20   20   20   20   20   19   19\n",
            " 85 |  116  102   35   34   33   30   21   21   21   21   21   20   20   19   19\n",
            " 86 |   62   61   45   30   21   21   21   21   21   20   20   20   19   19   19\n",
            " 87 |  130   34   33   21   21   21   21   21   20   20   20   20   20   19   19\n",
            " 88 |   82   45   39   31   21   21   21   21   20   20   20   20   20   20   19\n",
            " 89 |   68   61   45   45   45   21   21   20   20   20   20   20   20   20   19\n",
            " 90 |   67   55   34   21   21   20   20   20   20   20   20   20   20   20   19\n",
            " 91 |   74   34   33   20   20   20   20   20   20   20   20   20   20   20   20\n",
            " 92 |   50   34   33   21   20   20   20   20   20   20   20   20   20   19   19\n",
            " 93 |  110   45   34   21   20   20   20   20   20   20   20   19   19   19   19\n",
            " 94 |   95   45   33   21   21   20   20   20   20   20   20   20   20   19   19\n",
            " 95 |   45   34   33   21   21   21   21   20   20   20   20   20   19   19   19\n",
            " 96 |   39   34   34   21   21   21   20   20   20   20   20   20   20   19   19\n",
            " 97 |   69   66   61   35   21   21   21   21   21   21   20   20   19   19   19\n",
            " 98 |   93   34   33   21   21   21   21   21   21   21   20   20   19   19   19\n",
            " 99 |   77   45   45   39   39   21   21   21   21   21   20   20   20   20   19\n",
            "Melhor individuo: [[-1.63646189e-01 -2.96291368e+00  5.83268478e-01  8.04961173e-01\n",
            "   9.07247711e-01 -1.30027502e+00 -6.43531746e-02  1.19248780e-01\n",
            "  -1.60862498e-01  3.25252847e-03]\n",
            " [-1.55893655e+00  1.57060981e+00  2.27424105e+00  1.19583684e+00\n",
            "   4.75521425e-01 -1.58775554e-02 -3.43017760e+00  1.10111275e-02\n",
            "   1.37677751e-04 -5.52191090e+00]\n",
            " [-4.59501456e-02  1.23764369e+00 -6.47535983e-02 -5.54973261e+00\n",
            "  -3.33894967e-02  2.89492321e-02 -4.99721244e-05  8.55878940e-01\n",
            "   7.35864602e-01 -1.93184652e-04]]\n",
            "Fitness: 55.0\n"
          ]
        }
      ],
      "source": [
        "# OBS: Todos os prints abaixo são opcionais.\n",
        "#      Eles estão aqui para facilitar a visualização do algoritmo.\n",
        "\n",
        "num_geracoes = 100\n",
        "jogo = DinoGame(fps=50_000)\n",
        "\n",
        "# Crie a população usando populacao_aleatoria(NUM_INDIVIDUOS)\n",
        "populacao = populacao_aleatoria(NUM_INDIVIDUOS)\n",
        "\n",
        "print('ger | fitness\\n----+-' + '-'*5*NUM_INDIVIDUOS)\n",
        "\n",
        "for ger in range(num_geracoes):\n",
        "    # Crie uma lista `fitness` com o fitness de cada indivíduo da população\n",
        "    # (usando a função calcular_fitness e um `for` loop).\n",
        "    fitness = []\n",
        "    for ind in populacao:\n",
        "        fitness.append(calcular_fitness(jogo, ind))\n",
        "\n",
        "    # Atualize a população usando a função próxima_geração.\n",
        "    populacao = proxima_geracao(populacao, fitness)\n",
        "\n",
        "    print('{:3} |'.format(ger),\n",
        "          ' '.join('{:4d}'.format(s) for s in sorted(fitness, reverse=True)))\n",
        "\n",
        "    # Opcional: parar se o fitness estiver acima de algum valor (p.ex. 300)\n",
        "    # if max(fitness) > 300:\n",
        "    #     break\n",
        "\n",
        "# Calcule a lista de fitness para a última geração\n",
        "fitness = []\n",
        "for ind in populacao:\n",
        "    fitness.append(calcular_fitness(jogo, ind))\n",
        "    \n",
        "# Mostre o melhor indivíduo\n",
        "jogo.fps = 100\n",
        "ordenados = ordenar_lista(populacao, fitness)\n",
        "melhor = ordenados[0]\n",
        "print('Melhor individuo:', melhor)\n",
        "fit = calcular_fitness(jogo, melhor)\n",
        "print('Fitness: {:4.1f}'.format(jogo.get_score()))"
      ]
    },
    {
      "cell_type": "markdown",
      "metadata": {
        "id": "-dEqRlS2cmEm"
      },
      "source": [
        "Observe que no final do código, na parte que mostra o melhor indivíduo, tivemos que diminuir a velocidade do jogo (o fps ou frames per second). Inicialmente criamos o jogo com um fps alto, para que o algoritmo rodasse mais rápido. No entanto, para que seja possível ver o dinossauro jogando, é necessário diminuir o fps."
      ]
    },
    {
      "cell_type": "markdown",
      "metadata": {
        "id": "KSvC5ol3Y3T-"
      },
      "source": [
        "Essa implamentação foi baseada no post https://medium.com/turing-talks/turing-talks-8-algoritmos-gen%C3%A9ticos-a791c25bd7ba"
      ]
    },
    {
      "cell_type": "code",
      "execution_count": null,
      "metadata": {
        "id": "O-_zZRzbY30z"
      },
      "outputs": [],
      "source": []
    }
  ],
  "metadata": {
    "colab": {
      "collapsed_sections": [],
      "provenance": []
    },
    "kernelspec": {
      "display_name": "Python 3.8.10 ('venv': venv)",
      "language": "python",
      "name": "python3"
    },
    "language_info": {
      "codemirror_mode": {
        "name": "ipython",
        "version": 3
      },
      "file_extension": ".py",
      "mimetype": "text/x-python",
      "name": "python",
      "nbconvert_exporter": "python",
      "pygments_lexer": "ipython3",
      "version": "3.8.10"
    },
    "vscode": {
      "interpreter": {
        "hash": "9e889402a2f9d1001ffb357a36fea206a06802568e88ca85c5f7d0bc00d5c8a8"
      }
    }
  },
  "nbformat": 4,
  "nbformat_minor": 0
}
