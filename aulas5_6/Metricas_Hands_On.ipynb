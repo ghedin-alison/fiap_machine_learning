{
 "cells": [
  {
   "cell_type": "markdown",
   "metadata": {},
   "source": [
    "<b>Vinicius F. Caridá</b>"
   ]
  },
  {
   "cell_type": "markdown",
   "metadata": {},
   "source": [
    "<h1 style=\"text-align:center\"> Machine Learning Hands-On </h1>"
   ]
  },
  {
   "cell_type": "markdown",
   "metadata": {},
   "source": [
    "<h3 class=\"title\"> Links úteis: </h3>\n",
    "<br>\n",
    "<ol>\n",
    "  <li class=\"item\"><a href = \"http://scikit-learn.org/stable/\"> Sklearn</a>: principal biblioteca de aprendizado de máquina para python.</li>\n",
    "  <li class=\"item\"><a href = \"http://pandas.pydata.org/pandas-docs/stable/\"> Pandas</a>: (quase) tudo o que você precisa para trabalhar rapidamente com tabelas</li>\n",
    "  <li class=\"item\"><a href = \"https://docs.scipy.org/doc/numpy/reference/index.html\"> Numpy</a>: funções matemáticas estão aqui</li>\n",
    "  <li class=\"item\"><a href = \"https://matplotlib.org/contents.html\"> Matplotlib</a>: te ajuda a plotar!</li>\n",
    "  <li class=\"item\"><a href = \"https://seaborn.pydata.org/api.html\"> Seaborn</a>: Deixa a matplotlib bonita (contém plots mais bem estruturados)</li>\n",
    "</ol>"
   ]
  },
  {
   "cell_type": "markdown",
   "metadata": {},
   "source": [
    "<b>Trabalharemos com as seguintes bases de dados:</b>\n",
    "- iris.csv\n",
    "- lenses_final.csv\n",
    "- car.data\n",
    "- horse-colic.data\n",
    "- PETR4.SA.csv\n",
    "- Boston.csv\n",
    "- artificial_data\n",
    "\n",
    "<b>Testem a leitura de um dos arquivos deste curso</b>\n",
    "- Acessem a documentação da função <i>read_csv</i> do <i>pandas</i>: https://pandas.pydata.org/pandas-docs/stable/generated/pandas.read_csv.html"
   ]
  },
  {
   "cell_type": "code",
   "execution_count": 1,
   "metadata": {},
   "outputs": [],
   "source": [
    "import numpy as np \n",
    "import pandas as pd\n",
    "%matplotlib inline\n",
    "import matplotlib.pyplot as plt\n",
    "import seaborn as sns\n",
    "sns.set_style('whitegrid', {\"axes.grid\" : False})\n",
    "sns.set_context('notebook')\n",
    "np.random.seed(42)"
   ]
  },
  {
   "cell_type": "code",
   "execution_count": 2,
   "metadata": {},
   "outputs": [],
   "source": [
    "iris            = pd.read_csv(\"../arquivos/data/iris.csv\")\n",
    "lenses          = pd.read_csv(\"../arquivos/data/lenses_final.csv\")\n",
    "car             = pd.read_csv(\"../arquivos/data/cars.csv\")\n",
    "horsecolic      = pd.read_table(\"../arquivos/data/horse-colic.data\")"
   ]
  },
  {
   "cell_type": "markdown",
   "metadata": {},
   "source": [
    "<h1 style=\"text-align:center\"> Validação de Modelos </h1>"
   ]
  },
  {
   "cell_type": "markdown",
   "metadata": {},
   "source": [
    "<h2 style=\"text-align:center; margin:40px\"> Validação de agrupamentos - Silhueta </h2>\n",
    "\n",
    "![](img/sil.png)\n",
    "\n",
    "A <b>silhueta</b> é uma métrica utilizada para mensurar a qualidade de um agrupamento <b>priorizando grupos densos/concisos e bem separados</b>, ou seja, favorecendo uma pequena distância intracluster e uma grande distância intercluster.\n",
    "\n",
    "$$ s(x_i) = \\frac{(B_i - A_i)}{\\max(B_i, A_i)}$$\n",
    "\n",
    "Onde $A_i$ é a distância média de $x_i$ até todos os outros objetos pertencentes ao mesmo cluster, e $B_i$ é a distância média de $x_i$ até todos os outros objetos pertencentes ao cluster mais próximo de $x_i$\n",
    "\n",
    "A silhueta de uma partição é calculada como sendo a <b>média das silhuetas de cada observação $x_i$</b>\n",
    "\n",
    "<h3 style=\"text-align:center; margin:40px\"> A silhueta pode ser usada para estimar o melhor valor de K no K-Means </h3>\n",
    "\n",
    "![](img/sil_base.png)"
   ]
  },
  {
   "cell_type": "markdown",
   "metadata": {},
   "source": [
    "<h3> Scikit-Learn </h3>\n",
    "Agora vamos utilizar o pacote <i>sklearn</i> para fazer o cálculo da silhueta para alguns valores de <b>K</b>."
   ]
  },
  {
   "cell_type": "code",
   "execution_count": 5,
   "metadata": {},
   "outputs": [],
   "source": [
    "from sklearn.metrics import silhouette_score\n",
    "from sklearn.cluster import KMeans"
   ]
  },
  {
   "cell_type": "code",
   "execution_count": 7,
   "metadata": {},
   "outputs": [],
   "source": [
    "baseDados = pd.read_csv('../arquivos/data/base_agrupamento_1.csv')\n",
    "X = baseDados[['X','Y']]\n",
    "K_min = 2\n",
    "K_max = 30"
   ]
  },
  {
   "cell_type": "code",
   "execution_count": 8,
   "metadata": {},
   "outputs": [
    {
     "data": {
      "text/plain": [
       "Text(4, 0.7709092776823179, 'Melhor K : 3')"
      ]
     },
     "execution_count": 8,
     "metadata": {},
     "output_type": "execute_result"
    },
    {
     "data": {
      "image/png": "[encoded data removed]",
      "text/plain": [
       "<Figure size 640x480 with 1 Axes>"
      ]
     },
     "metadata": {},
     "output_type": "display_data"
    }
   ],
   "source": [
    "K = list(range(K_min, K_max))\n",
    "sil = []\n",
    "for i in range(K_min, K_max):\n",
    "    km = KMeans(n_clusters = i)\n",
    "    labels = km.fit_predict(X)\n",
    "    sil.append(silhouette_score(X, labels))\n",
    "plt.plot(K, sil, color = 'blue')\n",
    "idx = np.argmax(sil)\n",
    "plt.plot([K[idx], K[idx]], [0, sil[idx]], '--', color = 'red')\n",
    "plt.text(K[idx]+1, sil[idx]-0.025, 'Melhor K : %d' % K[idx], fontdict={'fontsize':16})"
   ]
  },
  {
   "cell_type": "markdown",
   "metadata": {},
   "source": [
    "<h2 style=\"text-align:center; margin:40px\"> Validação de modelos supervisionados </h2>\n",
    "\n",
    "<h2 style=\"text-align:center; margin:40px\"> Underfitting e Overfitting </h2>\n",
    "\n",
    "<b> Underfitting: </b> ocorre quando um modelo é incapaz de de se ajustar até mesmo aos dados de treinamento, e portanto também falha ao fazer predições em novas amostras\n",
    "<ul>\n",
    "    <li>Pode ocorrer quando uma regularização muito forte é aplicada ao modelo</li>\n",
    "    <li>Pode ocorrer quando um modelo muito simples (ex: regressão linear) é aplicado em um problema complexo</li>\n",
    "    <li>Pode ocorrer quando temos poucos dados rotulados e uma tarefa de aprendizado complexa (ex: classificação de imagens)</li>\n",
    "</ul>\n",
    "\n",
    "<b> Overfitting: </b> ocorre quando um modelo se ajusta perfeitamente aos dados de treinamento, porém não possui poder de generalização suficiente para fazer predições corretas com novas amostras\n",
    "<ul>\n",
    "    <li>Pode ocorrer quando não aplicamos regularização, deixando o modelo se ajustar livremente aos dados de treino</li>\n",
    "    <li>Pode ocorrer quando um modelo muito complexo (ex: deep learning) é aplicado em um problema simples</li>\n",
    "</ul>\n",
    "\n",
    "![](img/under_over.png)\n",
    "\n",
    "<h4><font color = \"dimgrey\">Uma reta (polinômio de grau 1) não é capaz de se ajustar aos dados</font></h4>\n",
    "<h4><font color = \"green\">Um polinômio de grau 3 se ajusta relativamente bem aos dados</font></h4>\n",
    "<h4><font color = \"red\">Um polinômio de grau 9 se ajusta perfeitamente aos dados, mas será que isso é bom?</font></h4>"
   ]
  },
  {
   "cell_type": "markdown",
   "metadata": {},
   "source": [
    "<h2 style=\"text-align:center; margin:40px\"> Combatendo o Overfitting - Validação Cruzada </h2>\n",
    "\n",
    "![](../arquivos/img/cval.png)\n",
    "\n",
    "<h2 style=\"text-align:center; margin:40px\"> Hold-Out </h2>\n",
    "\n",
    "![](../arquivos/img/holdout.png)\n",
    "\n",
    "<h2 style=\"text-align:center; margin:40px\"> K-Folds </h2>\n",
    "\n",
    "![](../arquivos/img/kfolds.png)\n",
    "\n",
    "<h2 style=\"text-align:center; margin:40px\"> Leave-One-Out </h2>\n",
    "\n",
    "![](../arquivos/img/leaveoneout.png)"
   ]
  },
  {
   "cell_type": "markdown",
   "metadata": {},
   "source": [
    "<h3> Scikit-Learn </h3>\n",
    "Agora vamos utilizar o pacote <i>sklearn</i> para fazer validação cruzada utilizando um modelo de <b>SVM</b>"
   ]
  },
  {
   "cell_type": "code",
   "execution_count": 9,
   "metadata": {},
   "outputs": [],
   "source": [
    "from sklearn.svm import SVC\n",
    "from sklearn.model_selection import cross_val_score"
   ]
  },
  {
   "cell_type": "code",
   "execution_count": 11,
   "metadata": {},
   "outputs": [],
   "source": [
    "baseDados = pd.read_csv('../arquivos/data/base_svm.csv')\n",
    "X = baseDados.loc[:, baseDados.columns != 'Y']\n",
    "Y = baseDados.Y"
   ]
  },
  {
   "cell_type": "markdown",
   "metadata": {},
   "source": [
    "<h3> Hold-Out </h3>"
   ]
  },
  {
   "cell_type": "code",
   "execution_count": 12,
   "metadata": {},
   "outputs": [],
   "source": [
    "from sklearn.model_selection import train_test_split"
   ]
  },
  {
   "cell_type": "code",
   "execution_count": 13,
   "metadata": {},
   "outputs": [],
   "source": [
    "X_train, X_test, Y_train, Y_test = train_test_split(X, Y, test_size = 0.2)"
   ]
  },
  {
   "cell_type": "markdown",
   "metadata": {},
   "source": [
    "** Overfitting **"
   ]
  },
  {
   "cell_type": "code",
   "execution_count": 14,
   "metadata": {},
   "outputs": [
    {
     "name": "stdout",
     "output_type": "stream",
     "text": [
      "Acurácia no treino: 1.00\n",
      "Acurácia no teste: 0.77\n"
     ]
    }
   ],
   "source": [
    "model = SVC(kernel = 'rbf', C = 1, gamma = 1000)\n",
    "model.fit(X_train, Y_train)\n",
    "print('Acurácia no treino: %.2f' % model.score(X_train, Y_train))\n",
    "print('Acurácia no teste: %.2f' % model.score(X_test, Y_test))"
   ]
  },
  {
   "cell_type": "markdown",
   "metadata": {},
   "source": [
    "** Modelo Saudável **"
   ]
  },
  {
   "cell_type": "code",
   "execution_count": 15,
   "metadata": {},
   "outputs": [
    {
     "name": "stdout",
     "output_type": "stream",
     "text": [
      "Acurácia no treino: 1.00\n",
      "Acurácia no teste: 1.00\n"
     ]
    }
   ],
   "source": [
    "model = SVC(kernel = 'rbf', C = 1, gamma = 1)\n",
    "model.fit(X_train, Y_train)\n",
    "print('Acurácia no treino: %.2f' % model.score(X_train, Y_train))\n",
    "print('Acurácia no teste: %.2f' % model.score(X_test, Y_test))"
   ]
  },
  {
   "cell_type": "markdown",
   "metadata": {},
   "source": [
    "** Underfitting **"
   ]
  },
  {
   "cell_type": "code",
   "execution_count": 16,
   "metadata": {},
   "outputs": [
    {
     "name": "stdout",
     "output_type": "stream",
     "text": [
      "Acurácia no treino: 0.50\n",
      "Acurácia no teste: 0.49\n"
     ]
    }
   ],
   "source": [
    "model = SVC(kernel = 'rbf', C = 1, gamma = 0.001)\n",
    "model.fit(X_train, Y_train)\n",
    "print('Acurácia no treino: %.2f' % model.score(X_train, Y_train))\n",
    "print('Acurácia no teste: %.2f' % model.score(X_test, Y_test))"
   ]
  },
  {
   "cell_type": "markdown",
   "metadata": {},
   "source": [
    "<h3> K-Folds </h3>"
   ]
  },
  {
   "cell_type": "code",
   "execution_count": 17,
   "metadata": {},
   "outputs": [],
   "source": [
    "from sklearn.model_selection import KFold"
   ]
  },
  {
   "cell_type": "code",
   "execution_count": 18,
   "metadata": {},
   "outputs": [
    {
     "name": "stdout",
     "output_type": "stream",
     "text": [
      "Acurácia no teste: 0.42 +/- 0.06\n"
     ]
    }
   ],
   "source": [
    "model = SVC(kernel = 'rbf', C = 1, gamma = 0.001)\n",
    "scores = cross_val_score(model, X, Y, cv = KFold(n_splits = 10, shuffle = True), scoring = 'accuracy')\n",
    "print('Acurácia no teste: %.2f +/- %.2f' % (scores.mean(), 2 * scores.std()))"
   ]
  },
  {
   "cell_type": "markdown",
   "metadata": {},
   "source": [
    "<h3> Leave-One-Out </h3>"
   ]
  },
  {
   "cell_type": "code",
   "execution_count": 19,
   "metadata": {},
   "outputs": [],
   "source": [
    "from sklearn.model_selection import LeaveOneOut"
   ]
  },
  {
   "cell_type": "code",
   "execution_count": 20,
   "metadata": {},
   "outputs": [
    {
     "name": "stdout",
     "output_type": "stream",
     "text": [
      "Acurácia no teste: 1.00 +/- 0.00\n"
     ]
    }
   ],
   "source": [
    "model = SVC(kernel = 'rbf', C = 1, gamma = 1)\n",
    "scores = cross_val_score(model, X, Y, cv = LeaveOneOut(), scoring = 'accuracy')\n",
    "print('Acurácia no teste: %.2f +/- %.2f' % (scores.mean(), 2 * scores.std()))"
   ]
  },
  {
   "cell_type": "markdown",
   "metadata": {
    "collapsed": true
   },
   "source": [
    "<h2 style=\"text-align:center; margin:40px\"> Curvas de Aprendizado </h2>\n",
    "\n",
    "![](../arquivos/img/curva_ap.png)\n",
    "\n",
    "As <b>curvas de aprendizado</b> são representações gráficas que mostram o aprendizado de um modelo conforme sua experiência (quantidade de dados de treinamento) aumenta.\n",
    "\n",
    "Estamos interessados em visualizar tanto as métricas de <font color=\"blue\"><b>treinamento</b></font> quanto de <font color=\"green\"><b>teste</b></font>.\n",
    "\n",
    "Assim como a validação cruzada, estas curvas podem ser utilizadas para detectar <b>underfitting</b> e <b>overfitting</b>."
   ]
  },
  {
   "cell_type": "code",
   "execution_count": 17,
   "metadata": {},
   "outputs": [],
   "source": [
    "from sklearn.tree import DecisionTreeClassifier"
   ]
  },
  {
   "cell_type": "code",
   "execution_count": 18,
   "metadata": {},
   "outputs": [],
   "source": [
    "model = DecisionTreeClassifier(max_depth = 2)\n",
    "baseDados = pd.read_csv('data/breast.csv')\n",
    "X = baseDados.loc[:, baseDados.columns != 'type']\n",
    "Y = baseDados.type"
   ]
  },
  {
   "cell_type": "code",
   "execution_count": 19,
   "metadata": {},
   "outputs": [
    {
     "data": {
      "image/png": "[encoded data removed]",
      "text/plain": [
       "<Figure size 432x288 with 1 Axes>"
      ]
     },
     "metadata": {
      "needs_background": "light"
     },
     "output_type": "display_data"
    }
   ],
   "source": [
    "train_metrics = []\n",
    "test_metrics = []\n",
    "sizes = np.arange(0.05, 0.95, 0.01)\n",
    "for i in sizes:\n",
    "    X_train, X_test, Y_train, Y_test = train_test_split(X, Y, test_size = i)\n",
    "    model.fit(X_train, Y_train)\n",
    "    train_metrics.append(model.score(X_train, Y_train))\n",
    "    test_metrics.append(model.score(X_test, Y_test))\n",
    "    \n",
    "plt.plot(sizes, train_metrics, color = 'blue')\n",
    "plt.plot(sizes, test_metrics, color = 'green')\n",
    "plt.xlim([0, 1]);\n",
    "plt.ylim([0, 1.05]);\n",
    "plt.xticks(fontsize = 14);\n",
    "plt.yticks(fontsize = 14);\n",
    "plt.xlabel('Experiência', fontsize = 16);\n",
    "plt.ylabel('Desempenho', fontsize = 16);\n",
    "plt.title('Curvas de Aprendizado', fontsize = 18);"
   ]
  },
  {
   "cell_type": "markdown",
   "metadata": {
    "collapsed": true
   },
   "source": [
    "<h2 style=\"text-align:center; margin:40px\"> Grid Search </h2>\n",
    "\n",
    "<b>Grid Search</b> é uma técnica para encontrar os melhores <b>hiperparâmetros</b> para um modelo, de forma que este modelo obtenha a melhor capacidade de generalização possível para o conjunto de dados a ser trabalhado.\n",
    "\n",
    "<b>Hiperparâmetros:</b> parâmetros que não são otimizados automaticamente pelo modelo, e devem ser escolhidos pelo usuário de forma a melhor se adequar ao problema em questão.\n",
    "\n",
    "<ul>\n",
    "    <li><b>KNN:</b> Número de vizinhos <b>K</b></li>\n",
    "    <li><b>Regressão (LASSO, Ridge, ElasticNet):</b> Taxa de aprendizado $\\alpha$, parâmetro de regularização $C$</li>\n",
    "    <li><b>Árvores de Decisão:</b> Altura máxima, número de folhas, etc...</li>\n",
    "    <li><b>SVM Radial:</b> Parâmetro de regularização $C$, ajuste do kernel $\\gamma$</li>\n",
    "    <li><b>Redes Neurais:</b> Taxa de aprendizado $\\alpha$, número de camadas ocultas, número de neurônios por camada oculta, etc...</li>\n",
    "</ul>\n",
    "\n",
    "O grid search é uma técnica de <b>força bruta</b>, que envolve testar todas as combinações de hiperparâmetros para um determinado conjunto de valores.\n",
    "\n",
    "![](../arquivos/img/grid.png)"
   ]
  },
  {
   "cell_type": "markdown",
   "metadata": {},
   "source": [
    "------------classificador somente para teste----------------------"
   ]
  },
  {
   "cell_type": "code",
   "execution_count": 20,
   "metadata": {},
   "outputs": [],
   "source": [
    "from sklearn.neural_network import MLPClassifier"
   ]
  },
  {
   "cell_type": "code",
   "execution_count": 21,
   "metadata": {},
   "outputs": [
    {
     "data": {
      "text/plain": [
       "MLPClassifier(activation='relu', alpha=0.0001, batch_size='auto', beta_1=0.9,\n",
       "       beta_2=0.999, early_stopping=False, epsilon=1e-08,\n",
       "       hidden_layer_sizes=(40, 20, 10), learning_rate='constant',\n",
       "       learning_rate_init=0.001, max_iter=5000, momentum=0.9,\n",
       "       n_iter_no_change=10, nesterovs_momentum=True, power_t=0.5,\n",
       "       random_state=None, shuffle=True, solver='adam', tol=0.0001,\n",
       "       validation_fraction=0.1, verbose=False, warm_start=False)"
      ]
     },
     "execution_count": 21,
     "metadata": {},
     "output_type": "execute_result"
    }
   ],
   "source": [
    "MLP = MLPClassifier(activation = 'relu',\n",
    "                    hidden_layer_sizes = (40, 20, 10),\n",
    "                    learning_rate = 'constant',\n",
    "                    learning_rate_init = 0.001,\n",
    "                    max_iter = 5000)\n",
    "baseDados = pd.read_csv('data/base_svm.csv')\n",
    "X = baseDados.loc[:, baseDados.columns != 'Y']\n",
    "Y = baseDados.Y\n",
    "MLP.fit(X,Y)"
   ]
  },
  {
   "cell_type": "markdown",
   "metadata": {},
   "source": [
    "-------------------------------------------------------------"
   ]
  },
  {
   "cell_type": "code",
   "execution_count": 22,
   "metadata": {},
   "outputs": [],
   "source": [
    "from sklearn.model_selection import GridSearchCV"
   ]
  },
  {
   "cell_type": "code",
   "execution_count": 23,
   "metadata": {},
   "outputs": [
    {
     "name": "stdout",
     "output_type": "stream",
     "text": [
      "Fitting 5 folds for each of 25 candidates, totalling 125 fits\n"
     ]
    },
    {
     "name": "stderr",
     "output_type": "stream",
     "text": [
      "[Parallel(n_jobs=-1)]: Using backend LokyBackend with 8 concurrent workers.\n",
      "[Parallel(n_jobs=-1)]: Done  34 tasks      | elapsed:    3.0s\n",
      "[Parallel(n_jobs=-1)]: Done 125 out of 125 | elapsed:    3.2s finished\n"
     ]
    },
    {
     "data": {
      "text/plain": [
       "GridSearchCV(cv=5, error_score='raise-deprecating',\n",
       "       estimator=SVC(C=1.0, cache_size=200, class_weight=None, coef0=0.0,\n",
       "  decision_function_shape='ovr', degree=3, gamma='auto_deprecated',\n",
       "  kernel='rbf', max_iter=-1, probability=False, random_state=None,\n",
       "  shrinking=True, tol=0.001, verbose=False),\n",
       "       fit_params=None, iid='warn', n_jobs=-1,\n",
       "       param_grid={'C': [0.01, 0.1, 1, 10, 100], 'gamma': [0.01, 0.1, 1, 10, 100]},\n",
       "       pre_dispatch='2*n_jobs', refit=True, return_train_score='warn',\n",
       "       scoring=None, verbose=1)"
      ]
     },
     "execution_count": 23,
     "metadata": {},
     "output_type": "execute_result"
    }
   ],
   "source": [
    "GridSearch = GridSearchCV(estimator = SVC(kernel = 'rbf'),\n",
    "                          param_grid = {'C' : [0.01, 0.1, 1, 10, 100],\n",
    "                                        'gamma' : [0.01, 0.1, 1, 10, 100]},\n",
    "                          cv = 5,\n",
    "                          n_jobs = -1,\n",
    "                          verbose = 1)\n",
    "baseDados = pd.read_csv('data/base_svm.csv')\n",
    "X = baseDados.loc[:, baseDados.columns != 'Y']\n",
    "Y = baseDados.Y\n",
    "GridSearch.fit(X, Y)"
   ]
  },
  {
   "cell_type": "code",
   "execution_count": 24,
   "metadata": {},
   "outputs": [
    {
     "name": "stderr",
     "output_type": "stream",
     "text": [
      "C:\\Users\\vinicius\\Anaconda3\\lib\\site-packages\\sklearn\\utils\\deprecation.py:125: FutureWarning: You are accessing a training score ('split0_train_score'), which will not be available by default any more in 0.21. If you need training scores, please set return_train_score=True\n",
      "  warnings.warn(*warn_args, **warn_kwargs)\n",
      "C:\\Users\\vinicius\\Anaconda3\\lib\\site-packages\\sklearn\\utils\\deprecation.py:125: FutureWarning: You are accessing a training score ('split1_train_score'), which will not be available by default any more in 0.21. If you need training scores, please set return_train_score=True\n",
      "  warnings.warn(*warn_args, **warn_kwargs)\n",
      "C:\\Users\\vinicius\\Anaconda3\\lib\\site-packages\\sklearn\\utils\\deprecation.py:125: FutureWarning: You are accessing a training score ('split2_train_score'), which will not be available by default any more in 0.21. If you need training scores, please set return_train_score=True\n",
      "  warnings.warn(*warn_args, **warn_kwargs)\n",
      "C:\\Users\\vinicius\\Anaconda3\\lib\\site-packages\\sklearn\\utils\\deprecation.py:125: FutureWarning: You are accessing a training score ('split3_train_score'), which will not be available by default any more in 0.21. If you need training scores, please set return_train_score=True\n",
      "  warnings.warn(*warn_args, **warn_kwargs)\n",
      "C:\\Users\\vinicius\\Anaconda3\\lib\\site-packages\\sklearn\\utils\\deprecation.py:125: FutureWarning: You are accessing a training score ('split4_train_score'), which will not be available by default any more in 0.21. If you need training scores, please set return_train_score=True\n",
      "  warnings.warn(*warn_args, **warn_kwargs)\n",
      "C:\\Users\\vinicius\\Anaconda3\\lib\\site-packages\\sklearn\\utils\\deprecation.py:125: FutureWarning: You are accessing a training score ('mean_train_score'), which will not be available by default any more in 0.21. If you need training scores, please set return_train_score=True\n",
      "  warnings.warn(*warn_args, **warn_kwargs)\n",
      "C:\\Users\\vinicius\\Anaconda3\\lib\\site-packages\\sklearn\\utils\\deprecation.py:125: FutureWarning: You are accessing a training score ('std_train_score'), which will not be available by default any more in 0.21. If you need training scores, please set return_train_score=True\n",
      "  warnings.warn(*warn_args, **warn_kwargs)\n"
     ]
    },
    {
     "data": {
      "text/html": [
       "<div>\n",
       "<style scoped>\n",
       "    .dataframe tbody tr th:only-of-type {\n",
       "        vertical-align: middle;\n",
       "    }\n",
       "\n",
       "    .dataframe tbody tr th {\n",
       "        vertical-align: top;\n",
       "    }\n",
       "\n",
       "    .dataframe thead th {\n",
       "        text-align: right;\n",
       "    }\n",
       "</style>\n",
       "<table border=\"1\" class=\"dataframe\">\n",
       "  <thead>\n",
       "    <tr style=\"text-align: right;\">\n",
       "      <th></th>\n",
       "      <th>mean_fit_time</th>\n",
       "      <th>std_fit_time</th>\n",
       "      <th>mean_score_time</th>\n",
       "      <th>std_score_time</th>\n",
       "      <th>param_C</th>\n",
       "      <th>param_gamma</th>\n",
       "      <th>params</th>\n",
       "      <th>split0_test_score</th>\n",
       "      <th>split1_test_score</th>\n",
       "      <th>split2_test_score</th>\n",
       "      <th>...</th>\n",
       "      <th>mean_test_score</th>\n",
       "      <th>std_test_score</th>\n",
       "      <th>rank_test_score</th>\n",
       "      <th>split0_train_score</th>\n",
       "      <th>split1_train_score</th>\n",
       "      <th>split2_train_score</th>\n",
       "      <th>split3_train_score</th>\n",
       "      <th>split4_train_score</th>\n",
       "      <th>mean_train_score</th>\n",
       "      <th>std_train_score</th>\n",
       "    </tr>\n",
       "  </thead>\n",
       "  <tbody>\n",
       "    <tr>\n",
       "      <th>12</th>\n",
       "      <td>0.004</td>\n",
       "      <td>0.000</td>\n",
       "      <td>0.001</td>\n",
       "      <td>0.000</td>\n",
       "      <td>1</td>\n",
       "      <td>1</td>\n",
       "      <td>{'C': 1, 'gamma': 1}</td>\n",
       "      <td>1.00</td>\n",
       "      <td>1.00</td>\n",
       "      <td>1.00</td>\n",
       "      <td>...</td>\n",
       "      <td>1.000</td>\n",
       "      <td>0.000</td>\n",
       "      <td>1</td>\n",
       "      <td>1.000</td>\n",
       "      <td>1.000</td>\n",
       "      <td>1.000</td>\n",
       "      <td>1.000</td>\n",
       "      <td>1.000</td>\n",
       "      <td>1.000</td>\n",
       "      <td>0.000</td>\n",
       "    </tr>\n",
       "    <tr>\n",
       "      <th>17</th>\n",
       "      <td>0.002</td>\n",
       "      <td>0.000</td>\n",
       "      <td>0.001</td>\n",
       "      <td>0.000</td>\n",
       "      <td>10</td>\n",
       "      <td>1</td>\n",
       "      <td>{'C': 10, 'gamma': 1}</td>\n",
       "      <td>1.00</td>\n",
       "      <td>1.00</td>\n",
       "      <td>1.00</td>\n",
       "      <td>...</td>\n",
       "      <td>1.000</td>\n",
       "      <td>0.000</td>\n",
       "      <td>1</td>\n",
       "      <td>1.000</td>\n",
       "      <td>1.000</td>\n",
       "      <td>1.000</td>\n",
       "      <td>1.000</td>\n",
       "      <td>1.000</td>\n",
       "      <td>1.000</td>\n",
       "      <td>0.000</td>\n",
       "    </tr>\n",
       "    <tr>\n",
       "      <th>13</th>\n",
       "      <td>0.007</td>\n",
       "      <td>0.000</td>\n",
       "      <td>0.002</td>\n",
       "      <td>0.000</td>\n",
       "      <td>1</td>\n",
       "      <td>10</td>\n",
       "      <td>{'C': 1, 'gamma': 10}</td>\n",
       "      <td>1.00</td>\n",
       "      <td>1.00</td>\n",
       "      <td>1.00</td>\n",
       "      <td>...</td>\n",
       "      <td>1.000</td>\n",
       "      <td>0.000</td>\n",
       "      <td>1</td>\n",
       "      <td>1.000</td>\n",
       "      <td>1.000</td>\n",
       "      <td>1.000</td>\n",
       "      <td>1.000</td>\n",
       "      <td>1.000</td>\n",
       "      <td>1.000</td>\n",
       "      <td>0.000</td>\n",
       "    </tr>\n",
       "    <tr>\n",
       "      <th>23</th>\n",
       "      <td>0.004</td>\n",
       "      <td>0.000</td>\n",
       "      <td>0.001</td>\n",
       "      <td>0.000</td>\n",
       "      <td>100</td>\n",
       "      <td>10</td>\n",
       "      <td>{'C': 100, 'gamma': 10}</td>\n",
       "      <td>1.00</td>\n",
       "      <td>1.00</td>\n",
       "      <td>1.00</td>\n",
       "      <td>...</td>\n",
       "      <td>1.000</td>\n",
       "      <td>0.000</td>\n",
       "      <td>1</td>\n",
       "      <td>1.000</td>\n",
       "      <td>1.000</td>\n",
       "      <td>1.000</td>\n",
       "      <td>1.000</td>\n",
       "      <td>1.000</td>\n",
       "      <td>1.000</td>\n",
       "      <td>0.000</td>\n",
       "    </tr>\n",
       "    <tr>\n",
       "      <th>11</th>\n",
       "      <td>0.004</td>\n",
       "      <td>0.000</td>\n",
       "      <td>0.003</td>\n",
       "      <td>0.003</td>\n",
       "      <td>1</td>\n",
       "      <td>0.1</td>\n",
       "      <td>{'C': 1, 'gamma': 0.1}</td>\n",
       "      <td>1.00</td>\n",
       "      <td>1.00</td>\n",
       "      <td>1.00</td>\n",
       "      <td>...</td>\n",
       "      <td>1.000</td>\n",
       "      <td>0.000</td>\n",
       "      <td>1</td>\n",
       "      <td>1.000</td>\n",
       "      <td>1.000</td>\n",
       "      <td>1.000</td>\n",
       "      <td>1.000</td>\n",
       "      <td>1.000</td>\n",
       "      <td>1.000</td>\n",
       "      <td>0.000</td>\n",
       "    </tr>\n",
       "    <tr>\n",
       "      <th>18</th>\n",
       "      <td>0.006</td>\n",
       "      <td>0.001</td>\n",
       "      <td>0.001</td>\n",
       "      <td>0.000</td>\n",
       "      <td>10</td>\n",
       "      <td>10</td>\n",
       "      <td>{'C': 10, 'gamma': 10}</td>\n",
       "      <td>1.00</td>\n",
       "      <td>1.00</td>\n",
       "      <td>1.00</td>\n",
       "      <td>...</td>\n",
       "      <td>1.000</td>\n",
       "      <td>0.000</td>\n",
       "      <td>1</td>\n",
       "      <td>1.000</td>\n",
       "      <td>1.000</td>\n",
       "      <td>1.000</td>\n",
       "      <td>1.000</td>\n",
       "      <td>1.000</td>\n",
       "      <td>1.000</td>\n",
       "      <td>0.000</td>\n",
       "    </tr>\n",
       "    <tr>\n",
       "      <th>15</th>\n",
       "      <td>0.006</td>\n",
       "      <td>0.000</td>\n",
       "      <td>0.002</td>\n",
       "      <td>0.000</td>\n",
       "      <td>10</td>\n",
       "      <td>0.01</td>\n",
       "      <td>{'C': 10, 'gamma': 0.01}</td>\n",
       "      <td>1.00</td>\n",
       "      <td>1.00</td>\n",
       "      <td>1.00</td>\n",
       "      <td>...</td>\n",
       "      <td>1.000</td>\n",
       "      <td>0.000</td>\n",
       "      <td>1</td>\n",
       "      <td>1.000</td>\n",
       "      <td>1.000</td>\n",
       "      <td>1.000</td>\n",
       "      <td>1.000</td>\n",
       "      <td>1.000</td>\n",
       "      <td>1.000</td>\n",
       "      <td>0.000</td>\n",
       "    </tr>\n",
       "    <tr>\n",
       "      <th>16</th>\n",
       "      <td>0.003</td>\n",
       "      <td>0.001</td>\n",
       "      <td>0.001</td>\n",
       "      <td>0.000</td>\n",
       "      <td>10</td>\n",
       "      <td>0.1</td>\n",
       "      <td>{'C': 10, 'gamma': 0.1}</td>\n",
       "      <td>1.00</td>\n",
       "      <td>1.00</td>\n",
       "      <td>1.00</td>\n",
       "      <td>...</td>\n",
       "      <td>1.000</td>\n",
       "      <td>0.000</td>\n",
       "      <td>1</td>\n",
       "      <td>1.000</td>\n",
       "      <td>1.000</td>\n",
       "      <td>1.000</td>\n",
       "      <td>1.000</td>\n",
       "      <td>1.000</td>\n",
       "      <td>1.000</td>\n",
       "      <td>0.000</td>\n",
       "    </tr>\n",
       "    <tr>\n",
       "      <th>6</th>\n",
       "      <td>0.008</td>\n",
       "      <td>0.002</td>\n",
       "      <td>0.002</td>\n",
       "      <td>0.000</td>\n",
       "      <td>0.1</td>\n",
       "      <td>0.1</td>\n",
       "      <td>{'C': 0.1, 'gamma': 0.1}</td>\n",
       "      <td>1.00</td>\n",
       "      <td>1.00</td>\n",
       "      <td>1.00</td>\n",
       "      <td>...</td>\n",
       "      <td>1.000</td>\n",
       "      <td>0.000</td>\n",
       "      <td>1</td>\n",
       "      <td>1.000</td>\n",
       "      <td>1.000</td>\n",
       "      <td>1.000</td>\n",
       "      <td>1.000</td>\n",
       "      <td>1.000</td>\n",
       "      <td>1.000</td>\n",
       "      <td>0.000</td>\n",
       "    </tr>\n",
       "    <tr>\n",
       "      <th>20</th>\n",
       "      <td>0.002</td>\n",
       "      <td>0.000</td>\n",
       "      <td>0.001</td>\n",
       "      <td>0.000</td>\n",
       "      <td>100</td>\n",
       "      <td>0.01</td>\n",
       "      <td>{'C': 100, 'gamma': 0.01}</td>\n",
       "      <td>1.00</td>\n",
       "      <td>1.00</td>\n",
       "      <td>1.00</td>\n",
       "      <td>...</td>\n",
       "      <td>1.000</td>\n",
       "      <td>0.000</td>\n",
       "      <td>1</td>\n",
       "      <td>1.000</td>\n",
       "      <td>1.000</td>\n",
       "      <td>1.000</td>\n",
       "      <td>1.000</td>\n",
       "      <td>1.000</td>\n",
       "      <td>1.000</td>\n",
       "      <td>0.000</td>\n",
       "    </tr>\n",
       "    <tr>\n",
       "      <th>21</th>\n",
       "      <td>0.003</td>\n",
       "      <td>0.001</td>\n",
       "      <td>0.001</td>\n",
       "      <td>0.001</td>\n",
       "      <td>100</td>\n",
       "      <td>0.1</td>\n",
       "      <td>{'C': 100, 'gamma': 0.1}</td>\n",
       "      <td>1.00</td>\n",
       "      <td>1.00</td>\n",
       "      <td>1.00</td>\n",
       "      <td>...</td>\n",
       "      <td>1.000</td>\n",
       "      <td>0.000</td>\n",
       "      <td>1</td>\n",
       "      <td>1.000</td>\n",
       "      <td>1.000</td>\n",
       "      <td>1.000</td>\n",
       "      <td>1.000</td>\n",
       "      <td>1.000</td>\n",
       "      <td>1.000</td>\n",
       "      <td>0.000</td>\n",
       "    </tr>\n",
       "    <tr>\n",
       "      <th>22</th>\n",
       "      <td>0.002</td>\n",
       "      <td>0.000</td>\n",
       "      <td>0.001</td>\n",
       "      <td>0.000</td>\n",
       "      <td>100</td>\n",
       "      <td>1</td>\n",
       "      <td>{'C': 100, 'gamma': 1}</td>\n",
       "      <td>1.00</td>\n",
       "      <td>1.00</td>\n",
       "      <td>1.00</td>\n",
       "      <td>...</td>\n",
       "      <td>1.000</td>\n",
       "      <td>0.000</td>\n",
       "      <td>1</td>\n",
       "      <td>1.000</td>\n",
       "      <td>1.000</td>\n",
       "      <td>1.000</td>\n",
       "      <td>1.000</td>\n",
       "      <td>1.000</td>\n",
       "      <td>1.000</td>\n",
       "      <td>0.000</td>\n",
       "    </tr>\n",
       "    <tr>\n",
       "      <th>7</th>\n",
       "      <td>0.004</td>\n",
       "      <td>0.000</td>\n",
       "      <td>0.002</td>\n",
       "      <td>0.000</td>\n",
       "      <td>0.1</td>\n",
       "      <td>1</td>\n",
       "      <td>{'C': 0.1, 'gamma': 1}</td>\n",
       "      <td>1.00</td>\n",
       "      <td>1.00</td>\n",
       "      <td>1.00</td>\n",
       "      <td>...</td>\n",
       "      <td>1.000</td>\n",
       "      <td>0.000</td>\n",
       "      <td>1</td>\n",
       "      <td>1.000</td>\n",
       "      <td>1.000</td>\n",
       "      <td>1.000</td>\n",
       "      <td>1.000</td>\n",
       "      <td>1.000</td>\n",
       "      <td>1.000</td>\n",
       "      <td>0.000</td>\n",
       "    </tr>\n",
       "    <tr>\n",
       "      <th>1</th>\n",
       "      <td>0.010</td>\n",
       "      <td>0.000</td>\n",
       "      <td>0.003</td>\n",
       "      <td>0.001</td>\n",
       "      <td>0.01</td>\n",
       "      <td>0.1</td>\n",
       "      <td>{'C': 0.01, 'gamma': 0.1}</td>\n",
       "      <td>1.00</td>\n",
       "      <td>1.00</td>\n",
       "      <td>1.00</td>\n",
       "      <td>...</td>\n",
       "      <td>0.996</td>\n",
       "      <td>0.008</td>\n",
       "      <td>14</td>\n",
       "      <td>1.000</td>\n",
       "      <td>1.000</td>\n",
       "      <td>1.000</td>\n",
       "      <td>0.990</td>\n",
       "      <td>1.000</td>\n",
       "      <td>0.998</td>\n",
       "      <td>0.004</td>\n",
       "    </tr>\n",
       "    <tr>\n",
       "      <th>8</th>\n",
       "      <td>0.008</td>\n",
       "      <td>0.000</td>\n",
       "      <td>0.002</td>\n",
       "      <td>0.000</td>\n",
       "      <td>0.1</td>\n",
       "      <td>10</td>\n",
       "      <td>{'C': 0.1, 'gamma': 10}</td>\n",
       "      <td>0.99</td>\n",
       "      <td>0.93</td>\n",
       "      <td>0.99</td>\n",
       "      <td>...</td>\n",
       "      <td>0.982</td>\n",
       "      <td>0.026</td>\n",
       "      <td>15</td>\n",
       "      <td>0.998</td>\n",
       "      <td>0.998</td>\n",
       "      <td>0.998</td>\n",
       "      <td>1.000</td>\n",
       "      <td>0.998</td>\n",
       "      <td>0.998</td>\n",
       "      <td>0.001</td>\n",
       "    </tr>\n",
       "    <tr>\n",
       "      <th>2</th>\n",
       "      <td>0.011</td>\n",
       "      <td>0.003</td>\n",
       "      <td>0.003</td>\n",
       "      <td>0.000</td>\n",
       "      <td>0.01</td>\n",
       "      <td>1</td>\n",
       "      <td>{'C': 0.01, 'gamma': 1}</td>\n",
       "      <td>0.97</td>\n",
       "      <td>0.95</td>\n",
       "      <td>0.98</td>\n",
       "      <td>...</td>\n",
       "      <td>0.974</td>\n",
       "      <td>0.016</td>\n",
       "      <td>16</td>\n",
       "      <td>0.985</td>\n",
       "      <td>0.985</td>\n",
       "      <td>0.990</td>\n",
       "      <td>0.990</td>\n",
       "      <td>0.985</td>\n",
       "      <td>0.987</td>\n",
       "      <td>0.002</td>\n",
       "    </tr>\n",
       "    <tr>\n",
       "      <th>19</th>\n",
       "      <td>0.010</td>\n",
       "      <td>0.002</td>\n",
       "      <td>0.001</td>\n",
       "      <td>0.000</td>\n",
       "      <td>10</td>\n",
       "      <td>100</td>\n",
       "      <td>{'C': 10, 'gamma': 100}</td>\n",
       "      <td>0.97</td>\n",
       "      <td>0.95</td>\n",
       "      <td>0.95</td>\n",
       "      <td>...</td>\n",
       "      <td>0.968</td>\n",
       "      <td>0.016</td>\n",
       "      <td>17</td>\n",
       "      <td>1.000</td>\n",
       "      <td>1.000</td>\n",
       "      <td>1.000</td>\n",
       "      <td>1.000</td>\n",
       "      <td>1.000</td>\n",
       "      <td>1.000</td>\n",
       "      <td>0.000</td>\n",
       "    </tr>\n",
       "    <tr>\n",
       "      <th>24</th>\n",
       "      <td>0.010</td>\n",
       "      <td>0.003</td>\n",
       "      <td>0.002</td>\n",
       "      <td>0.000</td>\n",
       "      <td>100</td>\n",
       "      <td>100</td>\n",
       "      <td>{'C': 100, 'gamma': 100}</td>\n",
       "      <td>0.97</td>\n",
       "      <td>0.95</td>\n",
       "      <td>0.95</td>\n",
       "      <td>...</td>\n",
       "      <td>0.968</td>\n",
       "      <td>0.016</td>\n",
       "      <td>17</td>\n",
       "      <td>1.000</td>\n",
       "      <td>1.000</td>\n",
       "      <td>1.000</td>\n",
       "      <td>1.000</td>\n",
       "      <td>1.000</td>\n",
       "      <td>1.000</td>\n",
       "      <td>0.000</td>\n",
       "    </tr>\n",
       "    <tr>\n",
       "      <th>14</th>\n",
       "      <td>0.014</td>\n",
       "      <td>0.000</td>\n",
       "      <td>0.003</td>\n",
       "      <td>0.000</td>\n",
       "      <td>1</td>\n",
       "      <td>100</td>\n",
       "      <td>{'C': 1, 'gamma': 100}</td>\n",
       "      <td>0.97</td>\n",
       "      <td>0.95</td>\n",
       "      <td>0.95</td>\n",
       "      <td>...</td>\n",
       "      <td>0.966</td>\n",
       "      <td>0.015</td>\n",
       "      <td>19</td>\n",
       "      <td>1.000</td>\n",
       "      <td>1.000</td>\n",
       "      <td>1.000</td>\n",
       "      <td>1.000</td>\n",
       "      <td>1.000</td>\n",
       "      <td>1.000</td>\n",
       "      <td>0.000</td>\n",
       "    </tr>\n",
       "    <tr>\n",
       "      <th>3</th>\n",
       "      <td>0.009</td>\n",
       "      <td>0.001</td>\n",
       "      <td>0.004</td>\n",
       "      <td>0.001</td>\n",
       "      <td>0.01</td>\n",
       "      <td>10</td>\n",
       "      <td>{'C': 0.01, 'gamma': 10}</td>\n",
       "      <td>0.69</td>\n",
       "      <td>0.75</td>\n",
       "      <td>0.73</td>\n",
       "      <td>...</td>\n",
       "      <td>0.756</td>\n",
       "      <td>0.050</td>\n",
       "      <td>20</td>\n",
       "      <td>0.765</td>\n",
       "      <td>0.792</td>\n",
       "      <td>0.782</td>\n",
       "      <td>0.762</td>\n",
       "      <td>0.808</td>\n",
       "      <td>0.782</td>\n",
       "      <td>0.017</td>\n",
       "    </tr>\n",
       "    <tr>\n",
       "      <th>10</th>\n",
       "      <td>0.009</td>\n",
       "      <td>0.000</td>\n",
       "      <td>0.003</td>\n",
       "      <td>0.000</td>\n",
       "      <td>1</td>\n",
       "      <td>0.01</td>\n",
       "      <td>{'C': 1, 'gamma': 0.01}</td>\n",
       "      <td>0.73</td>\n",
       "      <td>0.82</td>\n",
       "      <td>0.68</td>\n",
       "      <td>...</td>\n",
       "      <td>0.742</td>\n",
       "      <td>0.063</td>\n",
       "      <td>21</td>\n",
       "      <td>0.792</td>\n",
       "      <td>0.792</td>\n",
       "      <td>0.755</td>\n",
       "      <td>0.755</td>\n",
       "      <td>0.835</td>\n",
       "      <td>0.786</td>\n",
       "      <td>0.030</td>\n",
       "    </tr>\n",
       "    <tr>\n",
       "      <th>5</th>\n",
       "      <td>0.010</td>\n",
       "      <td>0.001</td>\n",
       "      <td>0.004</td>\n",
       "      <td>0.002</td>\n",
       "      <td>0.1</td>\n",
       "      <td>0.01</td>\n",
       "      <td>{'C': 0.1, 'gamma': 0.01}</td>\n",
       "      <td>0.73</td>\n",
       "      <td>0.82</td>\n",
       "      <td>0.68</td>\n",
       "      <td>...</td>\n",
       "      <td>0.738</td>\n",
       "      <td>0.068</td>\n",
       "      <td>22</td>\n",
       "      <td>0.792</td>\n",
       "      <td>0.792</td>\n",
       "      <td>0.755</td>\n",
       "      <td>0.735</td>\n",
       "      <td>0.835</td>\n",
       "      <td>0.782</td>\n",
       "      <td>0.035</td>\n",
       "    </tr>\n",
       "    <tr>\n",
       "      <th>0</th>\n",
       "      <td>0.010</td>\n",
       "      <td>0.000</td>\n",
       "      <td>0.003</td>\n",
       "      <td>0.000</td>\n",
       "      <td>0.01</td>\n",
       "      <td>0.01</td>\n",
       "      <td>{'C': 0.01, 'gamma': 0.01}</td>\n",
       "      <td>0.73</td>\n",
       "      <td>0.82</td>\n",
       "      <td>0.68</td>\n",
       "      <td>...</td>\n",
       "      <td>0.738</td>\n",
       "      <td>0.068</td>\n",
       "      <td>22</td>\n",
       "      <td>0.792</td>\n",
       "      <td>0.792</td>\n",
       "      <td>0.755</td>\n",
       "      <td>0.735</td>\n",
       "      <td>0.835</td>\n",
       "      <td>0.782</td>\n",
       "      <td>0.035</td>\n",
       "    </tr>\n",
       "    <tr>\n",
       "      <th>9</th>\n",
       "      <td>0.010</td>\n",
       "      <td>0.001</td>\n",
       "      <td>0.003</td>\n",
       "      <td>0.000</td>\n",
       "      <td>0.1</td>\n",
       "      <td>100</td>\n",
       "      <td>{'C': 0.1, 'gamma': 100}</td>\n",
       "      <td>0.54</td>\n",
       "      <td>0.59</td>\n",
       "      <td>0.59</td>\n",
       "      <td>...</td>\n",
       "      <td>0.598</td>\n",
       "      <td>0.042</td>\n",
       "      <td>24</td>\n",
       "      <td>0.618</td>\n",
       "      <td>0.610</td>\n",
       "      <td>0.605</td>\n",
       "      <td>0.602</td>\n",
       "      <td>0.590</td>\n",
       "      <td>0.605</td>\n",
       "      <td>0.009</td>\n",
       "    </tr>\n",
       "    <tr>\n",
       "      <th>4</th>\n",
       "      <td>0.012</td>\n",
       "      <td>0.002</td>\n",
       "      <td>0.004</td>\n",
       "      <td>0.000</td>\n",
       "      <td>0.01</td>\n",
       "      <td>100</td>\n",
       "      <td>{'C': 0.01, 'gamma': 100}</td>\n",
       "      <td>0.54</td>\n",
       "      <td>0.59</td>\n",
       "      <td>0.58</td>\n",
       "      <td>...</td>\n",
       "      <td>0.596</td>\n",
       "      <td>0.042</td>\n",
       "      <td>25</td>\n",
       "      <td>0.608</td>\n",
       "      <td>0.600</td>\n",
       "      <td>0.602</td>\n",
       "      <td>0.595</td>\n",
       "      <td>0.590</td>\n",
       "      <td>0.599</td>\n",
       "      <td>0.006</td>\n",
       "    </tr>\n",
       "  </tbody>\n",
       "</table>\n",
       "<p>25 rows × 22 columns</p>\n",
       "</div>"
      ],
      "text/plain": [
       "    mean_fit_time  std_fit_time  mean_score_time  std_score_time param_C  \\\n",
       "12          0.004         0.000            0.001           0.000       1   \n",
       "17          0.002         0.000            0.001           0.000      10   \n",
       "13          0.007         0.000            0.002           0.000       1   \n",
       "23          0.004         0.000            0.001           0.000     100   \n",
       "11          0.004         0.000            0.003           0.003       1   \n",
       "18          0.006         0.001            0.001           0.000      10   \n",
       "15          0.006         0.000            0.002           0.000      10   \n",
       "16          0.003         0.001            0.001           0.000      10   \n",
       "6           0.008         0.002            0.002           0.000     0.1   \n",
       "20          0.002         0.000            0.001           0.000     100   \n",
       "21          0.003         0.001            0.001           0.001     100   \n",
       "22          0.002         0.000            0.001           0.000     100   \n",
       "7           0.004         0.000            0.002           0.000     0.1   \n",
       "1           0.010         0.000            0.003           0.001    0.01   \n",
       "8           0.008         0.000            0.002           0.000     0.1   \n",
       "2           0.011         0.003            0.003           0.000    0.01   \n",
       "19          0.010         0.002            0.001           0.000      10   \n",
       "24          0.010         0.003            0.002           0.000     100   \n",
       "14          0.014         0.000            0.003           0.000       1   \n",
       "3           0.009         0.001            0.004           0.001    0.01   \n",
       "10          0.009         0.000            0.003           0.000       1   \n",
       "5           0.010         0.001            0.004           0.002     0.1   \n",
       "0           0.010         0.000            0.003           0.000    0.01   \n",
       "9           0.010         0.001            0.003           0.000     0.1   \n",
       "4           0.012         0.002            0.004           0.000    0.01   \n",
       "\n",
       "   param_gamma                      params  split0_test_score  \\\n",
       "12           1        {'C': 1, 'gamma': 1}               1.00   \n",
       "17           1       {'C': 10, 'gamma': 1}               1.00   \n",
       "13          10       {'C': 1, 'gamma': 10}               1.00   \n",
       "23          10     {'C': 100, 'gamma': 10}               1.00   \n",
       "11         0.1      {'C': 1, 'gamma': 0.1}               1.00   \n",
       "18          10      {'C': 10, 'gamma': 10}               1.00   \n",
       "15        0.01    {'C': 10, 'gamma': 0.01}               1.00   \n",
       "16         0.1     {'C': 10, 'gamma': 0.1}               1.00   \n",
       "6          0.1    {'C': 0.1, 'gamma': 0.1}               1.00   \n",
       "20        0.01   {'C': 100, 'gamma': 0.01}               1.00   \n",
       "21         0.1    {'C': 100, 'gamma': 0.1}               1.00   \n",
       "22           1      {'C': 100, 'gamma': 1}               1.00   \n",
       "7            1      {'C': 0.1, 'gamma': 1}               1.00   \n",
       "1          0.1   {'C': 0.01, 'gamma': 0.1}               1.00   \n",
       "8           10     {'C': 0.1, 'gamma': 10}               0.99   \n",
       "2            1     {'C': 0.01, 'gamma': 1}               0.97   \n",
       "19         100     {'C': 10, 'gamma': 100}               0.97   \n",
       "24         100    {'C': 100, 'gamma': 100}               0.97   \n",
       "14         100      {'C': 1, 'gamma': 100}               0.97   \n",
       "3           10    {'C': 0.01, 'gamma': 10}               0.69   \n",
       "10        0.01     {'C': 1, 'gamma': 0.01}               0.73   \n",
       "5         0.01   {'C': 0.1, 'gamma': 0.01}               0.73   \n",
       "0         0.01  {'C': 0.01, 'gamma': 0.01}               0.73   \n",
       "9          100    {'C': 0.1, 'gamma': 100}               0.54   \n",
       "4          100   {'C': 0.01, 'gamma': 100}               0.54   \n",
       "\n",
       "    split1_test_score  split2_test_score  ...  mean_test_score  \\\n",
       "12               1.00               1.00  ...            1.000   \n",
       "17               1.00               1.00  ...            1.000   \n",
       "13               1.00               1.00  ...            1.000   \n",
       "23               1.00               1.00  ...            1.000   \n",
       "11               1.00               1.00  ...            1.000   \n",
       "18               1.00               1.00  ...            1.000   \n",
       "15               1.00               1.00  ...            1.000   \n",
       "16               1.00               1.00  ...            1.000   \n",
       "6                1.00               1.00  ...            1.000   \n",
       "20               1.00               1.00  ...            1.000   \n",
       "21               1.00               1.00  ...            1.000   \n",
       "22               1.00               1.00  ...            1.000   \n",
       "7                1.00               1.00  ...            1.000   \n",
       "1                1.00               1.00  ...            0.996   \n",
       "8                0.93               0.99  ...            0.982   \n",
       "2                0.95               0.98  ...            0.974   \n",
       "19               0.95               0.95  ...            0.968   \n",
       "24               0.95               0.95  ...            0.968   \n",
       "14               0.95               0.95  ...            0.966   \n",
       "3                0.75               0.73  ...            0.756   \n",
       "10               0.82               0.68  ...            0.742   \n",
       "5                0.82               0.68  ...            0.738   \n",
       "0                0.82               0.68  ...            0.738   \n",
       "9                0.59               0.59  ...            0.598   \n",
       "4                0.59               0.58  ...            0.596   \n",
       "\n",
       "    std_test_score  rank_test_score  split0_train_score  split1_train_score  \\\n",
       "12           0.000                1               1.000               1.000   \n",
       "17           0.000                1               1.000               1.000   \n",
       "13           0.000                1               1.000               1.000   \n",
       "23           0.000                1               1.000               1.000   \n",
       "11           0.000                1               1.000               1.000   \n",
       "18           0.000                1               1.000               1.000   \n",
       "15           0.000                1               1.000               1.000   \n",
       "16           0.000                1               1.000               1.000   \n",
       "6            0.000                1               1.000               1.000   \n",
       "20           0.000                1               1.000               1.000   \n",
       "21           0.000                1               1.000               1.000   \n",
       "22           0.000                1               1.000               1.000   \n",
       "7            0.000                1               1.000               1.000   \n",
       "1            0.008               14               1.000               1.000   \n",
       "8            0.026               15               0.998               0.998   \n",
       "2            0.016               16               0.985               0.985   \n",
       "19           0.016               17               1.000               1.000   \n",
       "24           0.016               17               1.000               1.000   \n",
       "14           0.015               19               1.000               1.000   \n",
       "3            0.050               20               0.765               0.792   \n",
       "10           0.063               21               0.792               0.792   \n",
       "5            0.068               22               0.792               0.792   \n",
       "0            0.068               22               0.792               0.792   \n",
       "9            0.042               24               0.618               0.610   \n",
       "4            0.042               25               0.608               0.600   \n",
       "\n",
       "    split2_train_score  split3_train_score  split4_train_score  \\\n",
       "12               1.000               1.000               1.000   \n",
       "17               1.000               1.000               1.000   \n",
       "13               1.000               1.000               1.000   \n",
       "23               1.000               1.000               1.000   \n",
       "11               1.000               1.000               1.000   \n",
       "18               1.000               1.000               1.000   \n",
       "15               1.000               1.000               1.000   \n",
       "16               1.000               1.000               1.000   \n",
       "6                1.000               1.000               1.000   \n",
       "20               1.000               1.000               1.000   \n",
       "21               1.000               1.000               1.000   \n",
       "22               1.000               1.000               1.000   \n",
       "7                1.000               1.000               1.000   \n",
       "1                1.000               0.990               1.000   \n",
       "8                0.998               1.000               0.998   \n",
       "2                0.990               0.990               0.985   \n",
       "19               1.000               1.000               1.000   \n",
       "24               1.000               1.000               1.000   \n",
       "14               1.000               1.000               1.000   \n",
       "3                0.782               0.762               0.808   \n",
       "10               0.755               0.755               0.835   \n",
       "5                0.755               0.735               0.835   \n",
       "0                0.755               0.735               0.835   \n",
       "9                0.605               0.602               0.590   \n",
       "4                0.602               0.595               0.590   \n",
       "\n",
       "    mean_train_score  std_train_score  \n",
       "12             1.000            0.000  \n",
       "17             1.000            0.000  \n",
       "13             1.000            0.000  \n",
       "23             1.000            0.000  \n",
       "11             1.000            0.000  \n",
       "18             1.000            0.000  \n",
       "15             1.000            0.000  \n",
       "16             1.000            0.000  \n",
       "6              1.000            0.000  \n",
       "20             1.000            0.000  \n",
       "21             1.000            0.000  \n",
       "22             1.000            0.000  \n",
       "7              1.000            0.000  \n",
       "1              0.998            0.004  \n",
       "8              0.998            0.001  \n",
       "2              0.987            0.002  \n",
       "19             1.000            0.000  \n",
       "24             1.000            0.000  \n",
       "14             1.000            0.000  \n",
       "3              0.782            0.017  \n",
       "10             0.786            0.030  \n",
       "5              0.782            0.035  \n",
       "0              0.782            0.035  \n",
       "9              0.605            0.009  \n",
       "4              0.599            0.006  \n",
       "\n",
       "[25 rows x 22 columns]"
      ]
     },
     "execution_count": 24,
     "metadata": {},
     "output_type": "execute_result"
    }
   ],
   "source": [
    "results = pd.DataFrame(GridSearch.cv_results_)\n",
    "results.sort_values(by = 'rank_test_score').round(3)"
   ]
  },
  {
   "cell_type": "markdown",
   "metadata": {
    "collapsed": true
   },
   "source": [
    "<h2 style=\"text-align:center; margin:40px\"> Métricas de Classificação </h2>\n",
    "\n",
    "<h3> Matriz de confusão </h3>\n",
    "Matriz onde cada linha representa valores observados e cada coluna representa valores preditos.\n",
    "\n",
    "![](../arquivos/img/matconf2.png)\n",
    "\n",
    "A matriz de confusão pode ser utilizada para extrair várias outras métricas importantes:\n",
    "\n",
    "<h3> Acurácia = $\\frac{TP+TN}{TP+TN+FP+FN}$</h3>\n",
    "Quantas observações acertei?\n",
    "<h3> Precisão = $\\frac{TP}{TP+FP}$</h3>\n",
    "De todas observações que marquei como positivo, quantas realmente eram?\n",
    "<h3> Recall = $\\frac{TP}{TP+FN}$</h3>\n",
    "De todas observações que eram positivo, quantas eu realmente identifiquei?\n",
    "<h3> F1-Score = $\\frac{2 \\cdot Precisão \\cdot Recall}{Precisão + Recall}$</h3>\n",
    "Média harmônica de Precisão e Recall\n",
    "<h3> G-Measure = $\\sqrt{Precisão \\cdot Recall}$</h3>\n",
    "Média geométrica de Precisão e Recall\n",
    "\n",
    "![](../arquivos/img/f1.png)\n",
    "\n",
    "<h3>KS (Kolmogorov-Smirnov)</h3>\n",
    "É um teste estatístico utilizado para comparar distribuições de probabilidade. Podemos utilizá-lo para comparar a distribuição de <i>scores</i> de um modelo para as observações positivas e negativas, medindo assim quão bem o modelo pode separar as duas classes.\n",
    "\n",
    "![](../arquivos/img/ks.png)\n",
    "\n",
    "<h3>Curva ROC</h3>\n",
    "É uma curva que representa graficamente a capacidade de um classificador separar as duas classes conforme variamos o <b>ponto de corte</b> que define quais observações serão marcadas como evento. No eixo $x$ temos o <b>FP</b> e no eixo $y$ temos o <b>TP</b> para um determinado ponto de corte. A curva ROC de um modelo aleatório é a reta $Y=X$.\n",
    "\n",
    "![](../arquivos/img/roc.png)\n",
    "\n",
    "<h3>Area Under Curve (AUC)</h3>\n",
    "Área abaixo da curva ROC. Para um modelo aleatório, $AUC = \\frac{1}{2}$. Então o baseline para AUC é $\\frac{1}{2}$, e não 0.\n",
    "\n",
    "<h3>Gini = $2 \\cdot AUC - 1$</h3>\n",
    "Normalização do AUC para o intervalo $[0, 1]$"
   ]
  },
  {
   "cell_type": "code",
   "execution_count": null,
   "metadata": {},
   "outputs": [],
   "source": []
  },
  {
   "cell_type": "code",
   "execution_count": null,
   "metadata": {},
   "outputs": [],
   "source": []
  },
  {
   "cell_type": "code",
   "execution_count": 25,
   "metadata": {},
   "outputs": [],
   "source": [
    "from sklearn.metrics import confusion_matrix, accuracy_score, precision_score, recall_score, f1_score, roc_auc_score, roc_curve\n",
    "from scipy.stats import ks_2samp\n",
    "g_measure = lambda y_true, y_pred : np.sqrt(precision_score(y_true, y_pred) * recall_score(y_true, y_pred))\n",
    "gini_score = lambda y_true, y_score : 2 * roc_auc_score(y_true, y_score) - 1"
   ]
  },
  {
   "cell_type": "code",
   "execution_count": 26,
   "metadata": {},
   "outputs": [
    {
     "data": {
      "text/plain": [
       "array([[162,  10],\n",
       "       [ 27, 151]], dtype=int64)"
      ]
     },
     "execution_count": 26,
     "metadata": {},
     "output_type": "execute_result"
    }
   ],
   "source": [
    "baseDados = pd.read_csv('data/base_svm.csv')\n",
    "X = baseDados.loc[:, baseDados.columns != 'Y']\n",
    "Y = baseDados.Y\n",
    "X_train, X_test, Y_train, Y_test = train_test_split(X, Y, test_size = 0.7, random_state = 40)\n",
    "model = MLPClassifier(hidden_layer_sizes=(3,3),max_iter=5000, random_state = 42)\n",
    "model.fit(X_train, Y_train)\n",
    "pred = model.predict(X_test)\n",
    "score = model.predict_proba(X_test)[:, 1]\n",
    "\n",
    "confusion_matrix(Y_test, pred)"
   ]
  },
  {
   "cell_type": "code",
   "execution_count": 27,
   "metadata": {},
   "outputs": [
    {
     "name": "stdout",
     "output_type": "stream",
     "text": [
      "Acurácia = 0.89\n",
      "Precisão = 0.94\n",
      "Recall = 0.85\n",
      "F1 = 0.89\n",
      "Gmeasure = 0.89\n",
      "KS = 0.79\n",
      "AUC = 0.93\n",
      "Gini = 0.86\n"
     ]
    },
    {
     "data": {
      "text/plain": [
       "[<matplotlib.lines.Line2D at 0x1f22700def0>]"
      ]
     },
     "execution_count": 27,
     "metadata": {},
     "output_type": "execute_result"
    },
    {
     "data": {
      "image/png": "[encoded data removed]",
      "text/plain": [
       "<Figure size 432x288 with 1 Axes>"
      ]
     },
     "metadata": {
      "needs_background": "light"
     },
     "output_type": "display_data"
    }
   ],
   "source": [
    "print('Acurácia = %.2f' % accuracy_score(Y_test, pred))\n",
    "print('Precisão = %.2f' % precision_score(Y_test, pred))\n",
    "print('Recall = %.2f' % recall_score(Y_test, pred))\n",
    "print('F1 = %.2f' % f1_score(Y_test, pred))\n",
    "print('Gmeasure = %.2f' % g_measure(Y_test, pred))\n",
    "print('KS = %.2f' % ks_2samp(pred[Y_test == 0], pred[Y_test == 1])[0])\n",
    "print('AUC = %.2f' % roc_auc_score(Y_test, score))\n",
    "print('Gini = %.2f' % gini_score(Y_test, score))\n",
    "\n",
    "x,y,_ = roc_curve(Y_test, score)\n",
    "plt.plot([0]+x.tolist()+[1], [0]+y.tolist()+[1])\n",
    "plt.plot([0,1],[0,1])"
   ]
  },
  {
   "cell_type": "code",
   "execution_count": null,
   "metadata": {},
   "outputs": [],
   "source": []
  },
  {
   "cell_type": "code",
   "execution_count": null,
   "metadata": {},
   "outputs": [],
   "source": []
  },
  {
   "cell_type": "code",
   "execution_count": null,
   "metadata": {},
   "outputs": [],
   "source": []
  }
 ],
 "metadata": {
  "kernelspec": {
   "display_name": "Python 3.8.10 ('venv': venv)",
   "language": "python",
   "name": "python3"
  },
  "language_info": {
   "codemirror_mode": {
    "name": "ipython",
    "version": 3
   },
   "file_extension": ".py",
   "mimetype": "text/x-python",
   "name": "python",
   "nbconvert_exporter": "python",
   "pygments_lexer": "ipython3",
   "version": "3.8.10"
  },
  "vscode": {
   "interpreter": {
    "hash": "9e889402a2f9d1001ffb357a36fea206a06802568e88ca85c5f7d0bc00d5c8a8"
   }
  }
 },
 "nbformat": 4,
 "nbformat_minor": 1
}
